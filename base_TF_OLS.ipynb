{
 "cells": [
  {
   "cell_type": "code",
   "execution_count": 1,
   "metadata": {},
   "outputs": [],
   "source": [
    "import pandas as pd\n",
    "import matplotlib.pyplot as plt\n",
    "import seaborn as sns\n",
    "import numpy as np\n",
    "from scipy.stats import norm, skew\n",
    "#from scipy.special import boxcox1px\n",
    "from scipy.stats import boxcox_normmax\n",
    "from sklearn.preprocessing import StandardScaler\n",
    "from scipy import stats\n",
    "import warnings\n",
    "warnings.filterwarnings('ignore')"
   ]
  },
  {
   "cell_type": "code",
   "execution_count": 2,
   "metadata": {},
   "outputs": [],
   "source": [
    "import scipy.special as ss"
   ]
  },
  {
   "cell_type": "code",
   "execution_count": 3,
   "metadata": {},
   "outputs": [],
   "source": [
    "%matplotlib inline"
   ]
  },
  {
   "cell_type": "code",
   "execution_count": 4,
   "metadata": {},
   "outputs": [],
   "source": [
    "train = pd.read_csv('train.csv')\n",
    "test = pd.read_csv('test.csv')"
   ]
  },
  {
   "cell_type": "code",
   "execution_count": 5,
   "metadata": {},
   "outputs": [],
   "source": [
    "# train = train[(train.GrLivArea < 4500) & (train.SalePrice < 700_000)]\n",
    "train.reset_index(drop=True, inplace=True)\n",
    "# train[\"SalePrice\"] = np.log1p(train[\"SalePrice\"])\n",
    "y = train['SalePrice'].reset_index(drop=True).copy()"
   ]
  },
  {
   "cell_type": "code",
   "execution_count": 6,
   "metadata": {},
   "outputs": [],
   "source": [
    "test_ID = test.Id"
   ]
  },
  {
   "cell_type": "code",
   "execution_count": 7,
   "metadata": {},
   "outputs": [],
   "source": [
    "train.drop('Id',inplace=True, axis=1)\n",
    "test.drop('Id',inplace=True, axis=1)"
   ]
  },
  {
   "cell_type": "code",
   "execution_count": 8,
   "metadata": {},
   "outputs": [
    {
     "name": "stdout",
     "output_type": "stream",
     "text": [
      "(1460, 80) (1459, 79)\n"
     ]
    }
   ],
   "source": [
    "print(train.shape, test.shape)"
   ]
  },
  {
   "cell_type": "code",
   "execution_count": 9,
   "metadata": {},
   "outputs": [
    {
     "name": "stdout",
     "output_type": "stream",
     "text": [
      "(2919, 80)\n"
     ]
    }
   ],
   "source": [
    "data = pd.concat((train,test)).reset_index(drop=True)\n",
    "print(data.shape)"
   ]
  },
  {
   "cell_type": "code",
   "execution_count": 10,
   "metadata": {},
   "outputs": [
    {
     "data": {
      "text/plain": [
       "PoolQC          2909\n",
       "MiscFeature     2814\n",
       "Alley           2721\n",
       "Fence           2348\n",
       "SalePrice       1459\n",
       "FireplaceQu     1420\n",
       "LotFrontage      486\n",
       "GarageQual       159\n",
       "GarageCond       159\n",
       "GarageFinish     159\n",
       "GarageYrBlt      159\n",
       "GarageType       157\n",
       "BsmtExposure      82\n",
       "BsmtCond          82\n",
       "BsmtQual          81\n",
       "BsmtFinType2      80\n",
       "BsmtFinType1      79\n",
       "MasVnrType        24\n",
       "MasVnrArea        23\n",
       "MSZoning           4\n",
       "BsmtFullBath       2\n",
       "BsmtHalfBath       2\n",
       "Utilities          2\n",
       "Functional         2\n",
       "Electrical         1\n",
       "BsmtUnfSF          1\n",
       "Exterior1st        1\n",
       "Exterior2nd        1\n",
       "TotalBsmtSF        1\n",
       "GarageCars         1\n",
       "BsmtFinSF2         1\n",
       "BsmtFinSF1         1\n",
       "KitchenQual        1\n",
       "SaleType           1\n",
       "GarageArea         1\n",
       "dtype: int64"
      ]
     },
     "execution_count": 10,
     "metadata": {},
     "output_type": "execute_result"
    }
   ],
   "source": [
    "data_nans = data.isnull().sum()\n",
    "data_nans = data_nans[data_nans > 0]\n",
    "data_nans.sort_values(ascending=False)"
   ]
  },
  {
   "cell_type": "code",
   "execution_count": 11,
   "metadata": {},
   "outputs": [],
   "source": [
    "strings = ['MSSubClass']\n",
    "for var in strings:\n",
    "    data[var] = data[var].apply(str)"
   ]
  },
  {
   "cell_type": "code",
   "execution_count": 12,
   "metadata": {},
   "outputs": [],
   "source": [
    "groups = ['Exterior1st','Exterior2nd','SaleType','Electrical','KitchenQual']\n",
    "for group in groups:\n",
    "    mode = data[group].mode()[0]\n",
    "    data[group] = data[group].fillna(mode)\n",
    "\n",
    "    \n",
    "data.MSZoning = data.MSZoning.fillna('RL')\n",
    "\n",
    "for col in ['GarageType', 'GarageFinish', 'GarageQual', 'GarageCond','BsmtQual',\n",
    "            'BsmtCond', 'BsmtExposure', 'BsmtFinType1', 'BsmtFinType2',\"PoolQC\"\n",
    "           ,'Alley','Fence','MiscFeature','FireplaceQu','MasVnrType','Utilities']:\n",
    "    data[col] = data[col].fillna('None')\n",
    "    \n",
    "for col in ('GarageArea', 'GarageCars','MasVnrArea','BsmtFinSF1','BsmtFinSF2'\n",
    "           ,'BsmtFullBath','BsmtHalfBath','FullBath','HalfBath','BsmtUnfSF','TotalBsmtSF', 'GarageYrBlt'):\n",
    "    data[col] = data[col].fillna(0)\n",
    "    \n",
    "\n",
    "data.Functional = data.Functional.fillna('Typ')\n",
    "\n",
    "data['LotFrontage'] = data.groupby('Neighborhood')['LotFrontage'].transform(lambda x: x.fillna(x.median()))"
   ]
  },
  {
   "cell_type": "code",
   "execution_count": 13,
   "metadata": {
    "scrolled": false
   },
   "outputs": [
    {
     "data": {
      "text/plain": [
       "SalePrice    1459\n",
       "dtype: int64"
      ]
     },
     "execution_count": 13,
     "metadata": {},
     "output_type": "execute_result"
    }
   ],
   "source": [
    "data_nans = data.isnull().sum()\n",
    "data_nans = data_nans[data_nans > 0]\n",
    "data_nans.sort_values(ascending=False)"
   ]
  },
  {
   "cell_type": "code",
   "execution_count": 14,
   "metadata": {},
   "outputs": [],
   "source": [
    "data.drop(['SalePrice'], axis=1, inplace=True)"
   ]
  },
  {
   "cell_type": "code",
   "execution_count": 15,
   "metadata": {},
   "outputs": [
    {
     "name": "stdout",
     "output_type": "stream",
     "text": [
      "Index(['Alley', 'BldgType', 'BsmtCond', 'BsmtExposure', 'BsmtFinType1',\n",
      "       'BsmtFinType2', 'BsmtQual', 'CentralAir', 'Condition1', 'Condition2',\n",
      "       'Electrical', 'ExterCond', 'ExterQual', 'Exterior1st', 'Exterior2nd',\n",
      "       'Fence', 'FireplaceQu', 'Foundation', 'Functional', 'GarageCond',\n",
      "       'GarageFinish', 'GarageQual', 'GarageType', 'Heating', 'HeatingQC',\n",
      "       'HouseStyle', 'KitchenQual', 'LandContour', 'LandSlope', 'LotConfig',\n",
      "       'LotShape', 'MSSubClass', 'MSZoning', 'MasVnrType', 'MiscFeature',\n",
      "       'Neighborhood', 'PavedDrive', 'PoolQC', 'RoofMatl', 'RoofStyle',\n",
      "       'SaleCondition', 'SaleType', 'Street', 'Utilities'],\n",
      "      dtype='object')\n",
      "Index(['1stFlrSF', '2ndFlrSF', '3SsnPorch', 'BedroomAbvGr', 'BsmtFinSF1',\n",
      "       'BsmtFinSF2', 'BsmtFullBath', 'BsmtHalfBath', 'BsmtUnfSF',\n",
      "       'EnclosedPorch', 'Fireplaces', 'FullBath', 'GarageArea', 'GarageCars',\n",
      "       'GarageYrBlt', 'GrLivArea', 'HalfBath', 'KitchenAbvGr', 'LotArea',\n",
      "       'LotFrontage', 'LowQualFinSF', 'MasVnrArea', 'MiscVal', 'MoSold',\n",
      "       'OpenPorchSF', 'OverallCond', 'OverallQual', 'PoolArea', 'ScreenPorch',\n",
      "       'TotRmsAbvGrd', 'TotalBsmtSF', 'WoodDeckSF', 'YearBuilt',\n",
      "       'YearRemodAdd', 'YrSold'],\n",
      "      dtype='object')\n"
     ]
    }
   ],
   "source": [
    "cat_features = data.select_dtypes(include=['object']).columns\n",
    "print(cat_features)\n",
    "num_features = data.select_dtypes(exclude=['object']).columns\n",
    "print(num_features)"
   ]
  },
  {
   "cell_type": "markdown",
   "metadata": {},
   "source": [
    "### Skewing"
   ]
  },
  {
   "cell_type": "code",
   "execution_count": 16,
   "metadata": {},
   "outputs": [],
   "source": [
    "feat_num = data[num_features].drop(['GarageYrBlt','MoSold','OverallCond',\n",
    "                                    'OverallQual','TotRmsAbvGrd','YearBuilt',\n",
    "                                    'YearRemodAdd','YrSold','BsmtFullBath','BsmtHalfBath',\n",
    "                                   'FullBath','HalfBath','KitchenAbvGr','Fireplaces','GarageCars'],axis=1)\n",
    "feat_cat = data[cat_features]"
   ]
  },
  {
   "cell_type": "code",
   "execution_count": 17,
   "metadata": {},
   "outputs": [
    {
     "data": {
      "text/plain": [
       "MiscVal          21.947195\n",
       "PoolArea         16.898328\n",
       "LotArea          12.822431\n",
       "LowQualFinSF     12.088761\n",
       "3SsnPorch        11.376065\n",
       "BsmtFinSF2        4.146143\n",
       "EnclosedPorch     4.003891\n",
       "ScreenPorch       3.946694\n",
       "MasVnrArea        2.613592\n",
       "OpenPorchSF       2.535114\n",
       "WoodDeckSF        1.842433\n",
       "LotFrontage       1.505704\n",
       "1stFlrSF          1.469604\n",
       "BsmtFinSF1        1.425230\n",
       "GrLivArea         1.269358\n",
       "TotalBsmtSF       1.156894\n",
       "BsmtUnfSF         0.919339\n",
       "2ndFlrSF          0.861675\n",
       "BedroomAbvGr      0.326324\n",
       "GarageArea        0.239257\n",
       "dtype: float64"
      ]
     },
     "execution_count": 17,
     "metadata": {},
     "output_type": "execute_result"
    }
   ],
   "source": [
    "skewness = feat_num.apply(lambda x: skew(x))\n",
    "skewness.sort_values(ascending=False)"
   ]
  },
  {
   "cell_type": "code",
   "execution_count": 18,
   "metadata": {},
   "outputs": [],
   "source": [
    "skewness = skewness[abs(skewness) > 0.5]\n",
    "skewed_features = skewness.index\n",
    "for feat in skewed_features:\n",
    "    feat_num[feat] = ss.boxcox1p(feat_num[feat], boxcox_normmax(feat_num[feat] + 1))"
   ]
  },
  {
   "cell_type": "code",
   "execution_count": 19,
   "metadata": {
    "scrolled": true
   },
   "outputs": [
    {
     "name": "stdout",
     "output_type": "stream",
     "text": [
      "There are 11 skewed numerical features after Box Cox transform\n",
      "Mean skewnees: 4.431532191072031\n"
     ]
    },
    {
     "data": {
      "text/plain": [
       "PoolArea         14.985994\n",
       "3SsnPorch         8.865144\n",
       "LowQualFinSF      8.495602\n",
       "MiscVal           5.239894\n",
       "ScreenPorch       3.153911\n",
       "BsmtFinSF2        2.579468\n",
       "EnclosedPorch     2.150157\n",
       "MasVnrArea        0.976354\n",
       "2ndFlrSF          0.894536\n",
       "WoodDeckSF        0.784768\n",
       "OpenPorchSF       0.621025\n",
       "dtype: float64"
      ]
     },
     "execution_count": 19,
     "metadata": {},
     "output_type": "execute_result"
    }
   ],
   "source": [
    "skewness = feat_num.apply(lambda x: skew(x))\n",
    "skewness = skewness[abs(skewness) > 0.5]\n",
    "\n",
    "print(\"There are {} skewed numerical features after Box Cox transform\".format(skewness.shape[0]))\n",
    "print(\"Mean skewnees: {}\".format(np.mean(skewness)))\n",
    "skewness.sort_values(ascending=False)"
   ]
  },
  {
   "cell_type": "code",
   "execution_count": 20,
   "metadata": {},
   "outputs": [],
   "source": [
    "for col in feat_num.columns:\n",
    "    data[col] = feat_num[col]"
   ]
  },
  {
   "cell_type": "code",
   "execution_count": 21,
   "metadata": {},
   "outputs": [
    {
     "data": {
      "text/plain": [
       "(2919, 87)"
      ]
     },
     "execution_count": 21,
     "metadata": {},
     "output_type": "execute_result"
    }
   ],
   "source": [
    "data['TotalSF'] = data.TotalBsmtSF + data['1stFlrSF'] + data['2ndFlrSF']\n",
    "data['TotalBath'] = data.FullBath + 0.5 * data.HalfBath + data.BsmtFullBath + 0.5 * data.BsmtHalfBath\n",
    "data['TotalPorch'] = data.OpenPorchSF + data['3SsnPorch'] + data.EnclosedPorch + data.ScreenPorch + data.WoodDeckSF\n",
    "\n",
    "# data['YrBltAndRemod']=data.YearBuilt + data.YearRemodAdd\n",
    "\n",
    "\n",
    "# data['TotYear'] = data.YearBuilt + data.YearRemodAdd + data.YrSold\n",
    "data['HasPool'] = data.PoolArea.apply(lambda x: 1 if x > 0 else 0)\n",
    "data['HasGarage'] = data.GarageArea.apply(lambda x: 1 if x > 0 else 0)\n",
    "data['HasBsmt'] = data.TotalBsmtSF.apply(lambda x: 1 if x > 0 else 0)\n",
    "data['HasFirePl'] = data.Fireplaces.apply(lambda x: 1 if x > 0 else 0)\n",
    "data['BeforeCrisis'] = data.YrSold.apply(lambda x: 1 if x < 2008 else 0)\n",
    "\n",
    "data.shape"
   ]
  },
  {
   "cell_type": "code",
   "execution_count": 22,
   "metadata": {
    "scrolled": false
   },
   "outputs": [],
   "source": [
    "qual_dict = {\"None\": 0, \"Po\": 1, \"Fa\": 2, \"TA\": 4, \"Gd\": 7, \"Ex\": 11}\n",
    "qual_cols = [\"ExterQual\", \"ExterCond\", \"BsmtQual\", \"BsmtCond\", \"HeatingQC\", \n",
    "             \"KitchenQual\", \"FireplaceQu\", \"GarageQual\", \"GarageCond\", \"PoolQC\"]\n",
    "\n",
    "for cat in data.columns:\n",
    "    if cat in qual_cols:\n",
    "        data[cat] = data[cat].map(qual_dict).astype('int64')"
   ]
  },
  {
   "cell_type": "code",
   "execution_count": 23,
   "metadata": {},
   "outputs": [],
   "source": [
    "drops = ['Utilities', 'Street', 'PoolQC', 'MiscFeature', 'Alley', 'Fence','GarageYrBlt']\n",
    "data = data.drop(drops,axis=1)"
   ]
  },
  {
   "cell_type": "code",
   "execution_count": 24,
   "metadata": {},
   "outputs": [
    {
     "name": "stdout",
     "output_type": "stream",
     "text": [
      "Index(['BldgType', 'BsmtExposure', 'BsmtFinType1', 'BsmtFinType2',\n",
      "       'CentralAir', 'Condition1', 'Condition2', 'Electrical', 'Exterior1st',\n",
      "       'Exterior2nd', 'Foundation', 'Functional', 'GarageFinish', 'GarageType',\n",
      "       'Heating', 'HouseStyle', 'LandContour', 'LandSlope', 'LotConfig',\n",
      "       'LotShape', 'MSSubClass', 'MSZoning', 'MasVnrType', 'Neighborhood',\n",
      "       'PavedDrive', 'RoofMatl', 'RoofStyle', 'SaleCondition', 'SaleType'],\n",
      "      dtype='object')\n",
      "Index(['1stFlrSF', '2ndFlrSF', '3SsnPorch', 'BedroomAbvGr', 'BsmtCond',\n",
      "       'BsmtFinSF1', 'BsmtFinSF2', 'BsmtFullBath', 'BsmtHalfBath', 'BsmtQual',\n",
      "       'BsmtUnfSF', 'EnclosedPorch', 'ExterCond', 'ExterQual', 'FireplaceQu',\n",
      "       'Fireplaces', 'FullBath', 'GarageArea', 'GarageCars', 'GarageCond',\n",
      "       'GarageQual', 'GrLivArea', 'HalfBath', 'HeatingQC', 'KitchenAbvGr',\n",
      "       'KitchenQual', 'LotArea', 'LotFrontage', 'LowQualFinSF', 'MasVnrArea',\n",
      "       'MiscVal', 'MoSold', 'OpenPorchSF', 'OverallCond', 'OverallQual',\n",
      "       'PoolArea', 'ScreenPorch', 'TotRmsAbvGrd', 'TotalBsmtSF', 'WoodDeckSF',\n",
      "       'YearBuilt', 'YearRemodAdd', 'YrSold', 'TotalSF', 'TotalBath',\n",
      "       'TotalPorch', 'HasPool', 'HasGarage', 'HasBsmt', 'HasFirePl',\n",
      "       'BeforeCrisis'],\n",
      "      dtype='object')\n"
     ]
    }
   ],
   "source": [
    "cat_features = data.select_dtypes(include=['object']).columns\n",
    "print(cat_features)\n",
    "num_features = data.select_dtypes(exclude=['object']).columns\n",
    "print(num_features)"
   ]
  },
  {
   "cell_type": "code",
   "execution_count": 25,
   "metadata": {},
   "outputs": [],
   "source": [
    "feat_num = data[num_features]\n",
    "feat_cat = data[cat_features]"
   ]
  },
  {
   "cell_type": "code",
   "execution_count": 26,
   "metadata": {},
   "outputs": [],
   "source": [
    "# features_out = pd.get_dummies(feat_cat.iloc[:len(y),:]).reset_index(drop=True)"
   ]
  },
  {
   "cell_type": "code",
   "execution_count": 27,
   "metadata": {},
   "outputs": [],
   "source": [
    "# import statsmodels.api as sm"
   ]
  },
  {
   "cell_type": "code",
   "execution_count": 28,
   "metadata": {},
   "outputs": [],
   "source": [
    "# Y = np.log1p(y)"
   ]
  },
  {
   "cell_type": "code",
   "execution_count": 29,
   "metadata": {},
   "outputs": [],
   "source": [
    "# ols=sm.OLS(endog = Y, exog = features_out)"
   ]
  },
  {
   "cell_type": "code",
   "execution_count": 30,
   "metadata": {},
   "outputs": [],
   "source": [
    "# fit = ols.fit()"
   ]
  },
  {
   "cell_type": "code",
   "execution_count": 31,
   "metadata": {},
   "outputs": [],
   "source": [
    "# outlines=fit.outlier_test('holm')"
   ]
  },
  {
   "cell_type": "code",
   "execution_count": 32,
   "metadata": {
    "scrolled": true
   },
   "outputs": [],
   "source": [
    "# outlines[outlines['holm(p)']<0.01]"
   ]
  },
  {
   "cell_type": "code",
   "execution_count": 33,
   "metadata": {},
   "outputs": [],
   "source": [
    "# features_out_num = feat_num.iloc[:len(y),:].reset_index(drop=True)"
   ]
  },
  {
   "cell_type": "code",
   "execution_count": 34,
   "metadata": {},
   "outputs": [],
   "source": [
    "# ols_num=sm.OLS(endog = Y, exog = features_out_num)"
   ]
  },
  {
   "cell_type": "code",
   "execution_count": 35,
   "metadata": {},
   "outputs": [],
   "source": [
    "# fit = ols_num.fit()"
   ]
  },
  {
   "cell_type": "code",
   "execution_count": 36,
   "metadata": {},
   "outputs": [],
   "source": [
    "# outlines_num=fit.outlier_test('holm')"
   ]
  },
  {
   "cell_type": "code",
   "execution_count": 37,
   "metadata": {},
   "outputs": [],
   "source": [
    "# outlines_num[outlines_num['holm(p)']<0.01]"
   ]
  },
  {
   "cell_type": "code",
   "execution_count": 38,
   "metadata": {},
   "outputs": [],
   "source": [
    "# out_1 = outlines[outlines['holm(p)']<0.01].index\n",
    "# out_2 = outlines_num[outlines_num['holm(p)']<0.01].index\n",
    "# out = set(out_1.append(out_2))"
   ]
  },
  {
   "cell_type": "code",
   "execution_count": 39,
   "metadata": {},
   "outputs": [],
   "source": [
    "out = [30, 495, 523, 632, 812, 968, 1182, 1298, 1324, 1423]"
   ]
  },
  {
   "cell_type": "code",
   "execution_count": 40,
   "metadata": {},
   "outputs": [
    {
     "data": {
      "text/html": [
       "<div>\n",
       "<style scoped>\n",
       "    .dataframe tbody tr th:only-of-type {\n",
       "        vertical-align: middle;\n",
       "    }\n",
       "\n",
       "    .dataframe tbody tr th {\n",
       "        vertical-align: top;\n",
       "    }\n",
       "\n",
       "    .dataframe thead th {\n",
       "        text-align: right;\n",
       "    }\n",
       "</style>\n",
       "<table border=\"1\" class=\"dataframe\">\n",
       "  <thead>\n",
       "    <tr style=\"text-align: right;\">\n",
       "      <th></th>\n",
       "      <th>count</th>\n",
       "      <th>mean</th>\n",
       "      <th>std</th>\n",
       "      <th>min</th>\n",
       "      <th>25%</th>\n",
       "      <th>50%</th>\n",
       "      <th>75%</th>\n",
       "      <th>max</th>\n",
       "    </tr>\n",
       "  </thead>\n",
       "  <tbody>\n",
       "    <tr>\n",
       "      <td>1stFlrSF</td>\n",
       "      <td>2919.0</td>\n",
       "      <td>5.467018</td>\n",
       "      <td>0.192349</td>\n",
       "      <td>4.727521</td>\n",
       "      <td>5.332384</td>\n",
       "      <td>5.459344</td>\n",
       "      <td>5.606361</td>\n",
       "      <td>6.333169</td>\n",
       "    </tr>\n",
       "    <tr>\n",
       "      <td>2ndFlrSF</td>\n",
       "      <td>2919.0</td>\n",
       "      <td>401.452043</td>\n",
       "      <td>514.288936</td>\n",
       "      <td>0.000000</td>\n",
       "      <td>0.000000</td>\n",
       "      <td>0.000000</td>\n",
       "      <td>835.536971</td>\n",
       "      <td>2532.646194</td>\n",
       "    </tr>\n",
       "    <tr>\n",
       "      <td>3SsnPorch</td>\n",
       "      <td>2919.0</td>\n",
       "      <td>0.080091</td>\n",
       "      <td>0.711485</td>\n",
       "      <td>0.000000</td>\n",
       "      <td>0.000000</td>\n",
       "      <td>0.000000</td>\n",
       "      <td>0.000000</td>\n",
       "      <td>7.814872</td>\n",
       "    </tr>\n",
       "    <tr>\n",
       "      <td>BedroomAbvGr</td>\n",
       "      <td>2919.0</td>\n",
       "      <td>2.860226</td>\n",
       "      <td>0.822693</td>\n",
       "      <td>0.000000</td>\n",
       "      <td>2.000000</td>\n",
       "      <td>3.000000</td>\n",
       "      <td>3.000000</td>\n",
       "      <td>8.000000</td>\n",
       "    </tr>\n",
       "    <tr>\n",
       "      <td>BsmtCond</td>\n",
       "      <td>2919.0</td>\n",
       "      <td>3.936622</td>\n",
       "      <td>0.989886</td>\n",
       "      <td>0.000000</td>\n",
       "      <td>4.000000</td>\n",
       "      <td>4.000000</td>\n",
       "      <td>4.000000</td>\n",
       "      <td>7.000000</td>\n",
       "    </tr>\n",
       "    <tr>\n",
       "      <td>BsmtFinSF1</td>\n",
       "      <td>2919.0</td>\n",
       "      <td>72.169058</td>\n",
       "      <td>63.053998</td>\n",
       "      <td>0.000000</td>\n",
       "      <td>0.000000</td>\n",
       "      <td>75.846052</td>\n",
       "      <td>120.877939</td>\n",
       "      <td>475.812603</td>\n",
       "    </tr>\n",
       "    <tr>\n",
       "      <td>BsmtFinSF2</td>\n",
       "      <td>2919.0</td>\n",
       "      <td>1.159759</td>\n",
       "      <td>3.245977</td>\n",
       "      <td>0.000000</td>\n",
       "      <td>0.000000</td>\n",
       "      <td>0.000000</td>\n",
       "      <td>0.000000</td>\n",
       "      <td>14.376852</td>\n",
       "    </tr>\n",
       "    <tr>\n",
       "      <td>BsmtFullBath</td>\n",
       "      <td>2919.0</td>\n",
       "      <td>0.429599</td>\n",
       "      <td>0.524676</td>\n",
       "      <td>0.000000</td>\n",
       "      <td>0.000000</td>\n",
       "      <td>0.000000</td>\n",
       "      <td>1.000000</td>\n",
       "      <td>3.000000</td>\n",
       "    </tr>\n",
       "    <tr>\n",
       "      <td>BsmtHalfBath</td>\n",
       "      <td>2919.0</td>\n",
       "      <td>0.061322</td>\n",
       "      <td>0.245608</td>\n",
       "      <td>0.000000</td>\n",
       "      <td>0.000000</td>\n",
       "      <td>0.000000</td>\n",
       "      <td>0.000000</td>\n",
       "      <td>2.000000</td>\n",
       "    </tr>\n",
       "    <tr>\n",
       "      <td>BsmtQual</td>\n",
       "      <td>2919.0</td>\n",
       "      <td>5.689962</td>\n",
       "      <td>2.401908</td>\n",
       "      <td>0.000000</td>\n",
       "      <td>4.000000</td>\n",
       "      <td>7.000000</td>\n",
       "      <td>7.000000</td>\n",
       "      <td>11.000000</td>\n",
       "    </tr>\n",
       "    <tr>\n",
       "      <td>BsmtUnfSF</td>\n",
       "      <td>2919.0</td>\n",
       "      <td>60.159760</td>\n",
       "      <td>32.732512</td>\n",
       "      <td>0.000000</td>\n",
       "      <td>37.875359</td>\n",
       "      <td>59.503738</td>\n",
       "      <td>82.236292</td>\n",
       "      <td>154.089489</td>\n",
       "    </tr>\n",
       "    <tr>\n",
       "      <td>EnclosedPorch</td>\n",
       "      <td>2919.0</td>\n",
       "      <td>1.883401</td>\n",
       "      <td>4.516153</td>\n",
       "      <td>0.000000</td>\n",
       "      <td>0.000000</td>\n",
       "      <td>0.000000</td>\n",
       "      <td>0.000000</td>\n",
       "      <td>26.177738</td>\n",
       "    </tr>\n",
       "    <tr>\n",
       "      <td>ExterCond</td>\n",
       "      <td>2919.0</td>\n",
       "      <td>4.287085</td>\n",
       "      <td>1.068815</td>\n",
       "      <td>1.000000</td>\n",
       "      <td>4.000000</td>\n",
       "      <td>4.000000</td>\n",
       "      <td>4.000000</td>\n",
       "      <td>11.000000</td>\n",
       "    </tr>\n",
       "    <tr>\n",
       "      <td>ExterQual</td>\n",
       "      <td>2919.0</td>\n",
       "      <td>5.238780</td>\n",
       "      <td>1.824606</td>\n",
       "      <td>2.000000</td>\n",
       "      <td>4.000000</td>\n",
       "      <td>4.000000</td>\n",
       "      <td>7.000000</td>\n",
       "      <td>11.000000</td>\n",
       "    </tr>\n",
       "    <tr>\n",
       "      <td>FireplaceQu</td>\n",
       "      <td>2919.0</td>\n",
       "      <td>2.823912</td>\n",
       "      <td>3.108474</td>\n",
       "      <td>0.000000</td>\n",
       "      <td>0.000000</td>\n",
       "      <td>1.000000</td>\n",
       "      <td>7.000000</td>\n",
       "      <td>11.000000</td>\n",
       "    </tr>\n",
       "    <tr>\n",
       "      <td>Fireplaces</td>\n",
       "      <td>2919.0</td>\n",
       "      <td>0.597122</td>\n",
       "      <td>0.646129</td>\n",
       "      <td>0.000000</td>\n",
       "      <td>0.000000</td>\n",
       "      <td>1.000000</td>\n",
       "      <td>1.000000</td>\n",
       "      <td>4.000000</td>\n",
       "    </tr>\n",
       "    <tr>\n",
       "      <td>FullBath</td>\n",
       "      <td>2919.0</td>\n",
       "      <td>1.568003</td>\n",
       "      <td>0.552969</td>\n",
       "      <td>0.000000</td>\n",
       "      <td>1.000000</td>\n",
       "      <td>2.000000</td>\n",
       "      <td>2.000000</td>\n",
       "      <td>4.000000</td>\n",
       "    </tr>\n",
       "    <tr>\n",
       "      <td>GarageArea</td>\n",
       "      <td>2919.0</td>\n",
       "      <td>472.712573</td>\n",
       "      <td>215.535686</td>\n",
       "      <td>0.000000</td>\n",
       "      <td>320.000000</td>\n",
       "      <td>480.000000</td>\n",
       "      <td>576.000000</td>\n",
       "      <td>1488.000000</td>\n",
       "    </tr>\n",
       "    <tr>\n",
       "      <td>GarageCars</td>\n",
       "      <td>2919.0</td>\n",
       "      <td>1.766016</td>\n",
       "      <td>0.762196</td>\n",
       "      <td>0.000000</td>\n",
       "      <td>1.000000</td>\n",
       "      <td>2.000000</td>\n",
       "      <td>2.000000</td>\n",
       "      <td>5.000000</td>\n",
       "    </tr>\n",
       "    <tr>\n",
       "      <td>GarageCond</td>\n",
       "      <td>2919.0</td>\n",
       "      <td>3.739637</td>\n",
       "      <td>1.022389</td>\n",
       "      <td>0.000000</td>\n",
       "      <td>4.000000</td>\n",
       "      <td>4.000000</td>\n",
       "      <td>4.000000</td>\n",
       "      <td>11.000000</td>\n",
       "    </tr>\n",
       "    <tr>\n",
       "      <td>GarageQual</td>\n",
       "      <td>2919.0</td>\n",
       "      <td>3.723878</td>\n",
       "      <td>1.051362</td>\n",
       "      <td>0.000000</td>\n",
       "      <td>4.000000</td>\n",
       "      <td>4.000000</td>\n",
       "      <td>4.000000</td>\n",
       "      <td>11.000000</td>\n",
       "    </tr>\n",
       "    <tr>\n",
       "      <td>GrLivArea</td>\n",
       "      <td>2919.0</td>\n",
       "      <td>7.060553</td>\n",
       "      <td>0.306974</td>\n",
       "      <td>5.685075</td>\n",
       "      <td>6.839367</td>\n",
       "      <td>7.074515</td>\n",
       "      <td>7.252415</td>\n",
       "      <td>8.355349</td>\n",
       "    </tr>\n",
       "    <tr>\n",
       "      <td>HalfBath</td>\n",
       "      <td>2919.0</td>\n",
       "      <td>0.380267</td>\n",
       "      <td>0.502872</td>\n",
       "      <td>0.000000</td>\n",
       "      <td>0.000000</td>\n",
       "      <td>0.000000</td>\n",
       "      <td>1.000000</td>\n",
       "      <td>2.000000</td>\n",
       "    </tr>\n",
       "    <tr>\n",
       "      <td>HeatingQC</td>\n",
       "      <td>2919.0</td>\n",
       "      <td>8.001370</td>\n",
       "      <td>3.263712</td>\n",
       "      <td>1.000000</td>\n",
       "      <td>4.000000</td>\n",
       "      <td>11.000000</td>\n",
       "      <td>11.000000</td>\n",
       "      <td>11.000000</td>\n",
       "    </tr>\n",
       "    <tr>\n",
       "      <td>KitchenAbvGr</td>\n",
       "      <td>2919.0</td>\n",
       "      <td>1.044536</td>\n",
       "      <td>0.214462</td>\n",
       "      <td>0.000000</td>\n",
       "      <td>1.000000</td>\n",
       "      <td>1.000000</td>\n",
       "      <td>1.000000</td>\n",
       "      <td>3.000000</td>\n",
       "    </tr>\n",
       "    <tr>\n",
       "      <td>KitchenQual</td>\n",
       "      <td>2919.0</td>\n",
       "      <td>5.626584</td>\n",
       "      <td>2.107542</td>\n",
       "      <td>2.000000</td>\n",
       "      <td>4.000000</td>\n",
       "      <td>4.000000</td>\n",
       "      <td>7.000000</td>\n",
       "      <td>11.000000</td>\n",
       "    </tr>\n",
       "    <tr>\n",
       "      <td>LotArea</td>\n",
       "      <td>2919.0</td>\n",
       "      <td>13.558563</td>\n",
       "      <td>1.070188</td>\n",
       "      <td>9.773730</td>\n",
       "      <td>13.168581</td>\n",
       "      <td>13.661724</td>\n",
       "      <td>14.094653</td>\n",
       "      <td>21.234924</td>\n",
       "    </tr>\n",
       "    <tr>\n",
       "      <td>LotFrontage</td>\n",
       "      <td>2919.0</td>\n",
       "      <td>15.035638</td>\n",
       "      <td>2.684570</td>\n",
       "      <td>7.529560</td>\n",
       "      <td>14.008493</td>\n",
       "      <td>15.294721</td>\n",
       "      <td>16.494886</td>\n",
       "      <td>34.887137</td>\n",
       "    </tr>\n",
       "    <tr>\n",
       "      <td>LowQualFinSF</td>\n",
       "      <td>2919.0</td>\n",
       "      <td>0.062447</td>\n",
       "      <td>0.532720</td>\n",
       "      <td>0.000000</td>\n",
       "      <td>0.000000</td>\n",
       "      <td>0.000000</td>\n",
       "      <td>0.000000</td>\n",
       "      <td>5.399405</td>\n",
       "    </tr>\n",
       "    <tr>\n",
       "      <td>MasVnrArea</td>\n",
       "      <td>2919.0</td>\n",
       "      <td>8.050213</td>\n",
       "      <td>10.974236</td>\n",
       "      <td>0.000000</td>\n",
       "      <td>0.000000</td>\n",
       "      <td>0.000000</td>\n",
       "      <td>17.798203</td>\n",
       "      <td>49.871821</td>\n",
       "    </tr>\n",
       "    <tr>\n",
       "      <td>MiscVal</td>\n",
       "      <td>2919.0</td>\n",
       "      <td>0.249039</td>\n",
       "      <td>1.317411</td>\n",
       "      <td>0.000000</td>\n",
       "      <td>0.000000</td>\n",
       "      <td>0.000000</td>\n",
       "      <td>0.000000</td>\n",
       "      <td>10.605446</td>\n",
       "    </tr>\n",
       "    <tr>\n",
       "      <td>MoSold</td>\n",
       "      <td>2919.0</td>\n",
       "      <td>6.213087</td>\n",
       "      <td>2.714762</td>\n",
       "      <td>1.000000</td>\n",
       "      <td>4.000000</td>\n",
       "      <td>6.000000</td>\n",
       "      <td>8.000000</td>\n",
       "      <td>12.000000</td>\n",
       "    </tr>\n",
       "    <tr>\n",
       "      <td>OpenPorchSF</td>\n",
       "      <td>2919.0</td>\n",
       "      <td>7.372676</td>\n",
       "      <td>7.643023</td>\n",
       "      <td>0.000000</td>\n",
       "      <td>0.000000</td>\n",
       "      <td>7.568799</td>\n",
       "      <td>12.904469</td>\n",
       "      <td>41.281216</td>\n",
       "    </tr>\n",
       "    <tr>\n",
       "      <td>OverallCond</td>\n",
       "      <td>2919.0</td>\n",
       "      <td>5.564577</td>\n",
       "      <td>1.113131</td>\n",
       "      <td>1.000000</td>\n",
       "      <td>5.000000</td>\n",
       "      <td>5.000000</td>\n",
       "      <td>6.000000</td>\n",
       "      <td>9.000000</td>\n",
       "    </tr>\n",
       "    <tr>\n",
       "      <td>OverallQual</td>\n",
       "      <td>2919.0</td>\n",
       "      <td>6.089072</td>\n",
       "      <td>1.409947</td>\n",
       "      <td>1.000000</td>\n",
       "      <td>5.000000</td>\n",
       "      <td>6.000000</td>\n",
       "      <td>7.000000</td>\n",
       "      <td>10.000000</td>\n",
       "    </tr>\n",
       "    <tr>\n",
       "      <td>PoolArea</td>\n",
       "      <td>2919.0</td>\n",
       "      <td>0.025632</td>\n",
       "      <td>0.384228</td>\n",
       "      <td>0.000000</td>\n",
       "      <td>0.000000</td>\n",
       "      <td>0.000000</td>\n",
       "      <td>0.000000</td>\n",
       "      <td>6.230205</td>\n",
       "    </tr>\n",
       "    <tr>\n",
       "      <td>ScreenPorch</td>\n",
       "      <td>2919.0</td>\n",
       "      <td>2.051518</td>\n",
       "      <td>6.762247</td>\n",
       "      <td>0.000000</td>\n",
       "      <td>0.000000</td>\n",
       "      <td>0.000000</td>\n",
       "      <td>0.000000</td>\n",
       "      <td>43.041592</td>\n",
       "    </tr>\n",
       "    <tr>\n",
       "      <td>TotRmsAbvGrd</td>\n",
       "      <td>2919.0</td>\n",
       "      <td>6.451524</td>\n",
       "      <td>1.569379</td>\n",
       "      <td>2.000000</td>\n",
       "      <td>5.000000</td>\n",
       "      <td>6.000000</td>\n",
       "      <td>7.000000</td>\n",
       "      <td>15.000000</td>\n",
       "    </tr>\n",
       "    <tr>\n",
       "      <td>TotalBsmtSF</td>\n",
       "      <td>2919.0</td>\n",
       "      <td>345.680202</td>\n",
       "      <td>121.421716</td>\n",
       "      <td>0.000000</td>\n",
       "      <td>278.893356</td>\n",
       "      <td>333.922195</td>\n",
       "      <td>417.789982</td>\n",
       "      <td>1470.614434</td>\n",
       "    </tr>\n",
       "    <tr>\n",
       "      <td>WoodDeckSF</td>\n",
       "      <td>2919.0</td>\n",
       "      <td>19.782525</td>\n",
       "      <td>23.238178</td>\n",
       "      <td>0.000000</td>\n",
       "      <td>0.000000</td>\n",
       "      <td>0.000000</td>\n",
       "      <td>38.817738</td>\n",
       "      <td>153.668215</td>\n",
       "    </tr>\n",
       "    <tr>\n",
       "      <td>YearBuilt</td>\n",
       "      <td>2919.0</td>\n",
       "      <td>1971.312778</td>\n",
       "      <td>30.291442</td>\n",
       "      <td>1872.000000</td>\n",
       "      <td>1953.500000</td>\n",
       "      <td>1973.000000</td>\n",
       "      <td>2001.000000</td>\n",
       "      <td>2010.000000</td>\n",
       "    </tr>\n",
       "    <tr>\n",
       "      <td>YearRemodAdd</td>\n",
       "      <td>2919.0</td>\n",
       "      <td>1984.264474</td>\n",
       "      <td>20.894344</td>\n",
       "      <td>1950.000000</td>\n",
       "      <td>1965.000000</td>\n",
       "      <td>1993.000000</td>\n",
       "      <td>2004.000000</td>\n",
       "      <td>2010.000000</td>\n",
       "    </tr>\n",
       "    <tr>\n",
       "      <td>YrSold</td>\n",
       "      <td>2919.0</td>\n",
       "      <td>2007.792737</td>\n",
       "      <td>1.314964</td>\n",
       "      <td>2006.000000</td>\n",
       "      <td>2007.000000</td>\n",
       "      <td>2008.000000</td>\n",
       "      <td>2009.000000</td>\n",
       "      <td>2010.000000</td>\n",
       "    </tr>\n",
       "    <tr>\n",
       "      <td>TotalSF</td>\n",
       "      <td>2919.0</td>\n",
       "      <td>752.599262</td>\n",
       "      <td>505.403727</td>\n",
       "      <td>4.727521</td>\n",
       "      <td>363.367710</td>\n",
       "      <td>510.718809</td>\n",
       "      <td>1125.602238</td>\n",
       "      <td>3225.108320</td>\n",
       "    </tr>\n",
       "    <tr>\n",
       "      <td>TotalBath</td>\n",
       "      <td>2919.0</td>\n",
       "      <td>2.218397</td>\n",
       "      <td>0.808840</td>\n",
       "      <td>1.000000</td>\n",
       "      <td>1.500000</td>\n",
       "      <td>2.000000</td>\n",
       "      <td>2.500000</td>\n",
       "      <td>7.000000</td>\n",
       "    </tr>\n",
       "    <tr>\n",
       "      <td>TotalPorch</td>\n",
       "      <td>2919.0</td>\n",
       "      <td>31.170211</td>\n",
       "      <td>25.142879</td>\n",
       "      <td>0.000000</td>\n",
       "      <td>10.221078</td>\n",
       "      <td>27.606384</td>\n",
       "      <td>50.170640</td>\n",
       "      <td>153.668215</td>\n",
       "    </tr>\n",
       "    <tr>\n",
       "      <td>HasPool</td>\n",
       "      <td>2919.0</td>\n",
       "      <td>0.004454</td>\n",
       "      <td>0.066598</td>\n",
       "      <td>0.000000</td>\n",
       "      <td>0.000000</td>\n",
       "      <td>0.000000</td>\n",
       "      <td>0.000000</td>\n",
       "      <td>1.000000</td>\n",
       "    </tr>\n",
       "    <tr>\n",
       "      <td>HasGarage</td>\n",
       "      <td>2919.0</td>\n",
       "      <td>0.945872</td>\n",
       "      <td>0.226309</td>\n",
       "      <td>0.000000</td>\n",
       "      <td>1.000000</td>\n",
       "      <td>1.000000</td>\n",
       "      <td>1.000000</td>\n",
       "      <td>1.000000</td>\n",
       "    </tr>\n",
       "    <tr>\n",
       "      <td>HasBsmt</td>\n",
       "      <td>2919.0</td>\n",
       "      <td>0.972936</td>\n",
       "      <td>0.162298</td>\n",
       "      <td>0.000000</td>\n",
       "      <td>1.000000</td>\n",
       "      <td>1.000000</td>\n",
       "      <td>1.000000</td>\n",
       "      <td>1.000000</td>\n",
       "    </tr>\n",
       "    <tr>\n",
       "      <td>HasFirePl</td>\n",
       "      <td>2919.0</td>\n",
       "      <td>0.513532</td>\n",
       "      <td>0.499902</td>\n",
       "      <td>0.000000</td>\n",
       "      <td>0.000000</td>\n",
       "      <td>1.000000</td>\n",
       "      <td>1.000000</td>\n",
       "      <td>1.000000</td>\n",
       "    </tr>\n",
       "    <tr>\n",
       "      <td>BeforeCrisis</td>\n",
       "      <td>2919.0</td>\n",
       "      <td>0.449126</td>\n",
       "      <td>0.497490</td>\n",
       "      <td>0.000000</td>\n",
       "      <td>0.000000</td>\n",
       "      <td>0.000000</td>\n",
       "      <td>1.000000</td>\n",
       "      <td>1.000000</td>\n",
       "    </tr>\n",
       "  </tbody>\n",
       "</table>\n",
       "</div>"
      ],
      "text/plain": [
       "                count         mean         std          min          25%  \\\n",
       "1stFlrSF       2919.0     5.467018    0.192349     4.727521     5.332384   \n",
       "2ndFlrSF       2919.0   401.452043  514.288936     0.000000     0.000000   \n",
       "3SsnPorch      2919.0     0.080091    0.711485     0.000000     0.000000   \n",
       "BedroomAbvGr   2919.0     2.860226    0.822693     0.000000     2.000000   \n",
       "BsmtCond       2919.0     3.936622    0.989886     0.000000     4.000000   \n",
       "BsmtFinSF1     2919.0    72.169058   63.053998     0.000000     0.000000   \n",
       "BsmtFinSF2     2919.0     1.159759    3.245977     0.000000     0.000000   \n",
       "BsmtFullBath   2919.0     0.429599    0.524676     0.000000     0.000000   \n",
       "BsmtHalfBath   2919.0     0.061322    0.245608     0.000000     0.000000   \n",
       "BsmtQual       2919.0     5.689962    2.401908     0.000000     4.000000   \n",
       "BsmtUnfSF      2919.0    60.159760   32.732512     0.000000    37.875359   \n",
       "EnclosedPorch  2919.0     1.883401    4.516153     0.000000     0.000000   \n",
       "ExterCond      2919.0     4.287085    1.068815     1.000000     4.000000   \n",
       "ExterQual      2919.0     5.238780    1.824606     2.000000     4.000000   \n",
       "FireplaceQu    2919.0     2.823912    3.108474     0.000000     0.000000   \n",
       "Fireplaces     2919.0     0.597122    0.646129     0.000000     0.000000   \n",
       "FullBath       2919.0     1.568003    0.552969     0.000000     1.000000   \n",
       "GarageArea     2919.0   472.712573  215.535686     0.000000   320.000000   \n",
       "GarageCars     2919.0     1.766016    0.762196     0.000000     1.000000   \n",
       "GarageCond     2919.0     3.739637    1.022389     0.000000     4.000000   \n",
       "GarageQual     2919.0     3.723878    1.051362     0.000000     4.000000   \n",
       "GrLivArea      2919.0     7.060553    0.306974     5.685075     6.839367   \n",
       "HalfBath       2919.0     0.380267    0.502872     0.000000     0.000000   \n",
       "HeatingQC      2919.0     8.001370    3.263712     1.000000     4.000000   \n",
       "KitchenAbvGr   2919.0     1.044536    0.214462     0.000000     1.000000   \n",
       "KitchenQual    2919.0     5.626584    2.107542     2.000000     4.000000   \n",
       "LotArea        2919.0    13.558563    1.070188     9.773730    13.168581   \n",
       "LotFrontage    2919.0    15.035638    2.684570     7.529560    14.008493   \n",
       "LowQualFinSF   2919.0     0.062447    0.532720     0.000000     0.000000   \n",
       "MasVnrArea     2919.0     8.050213   10.974236     0.000000     0.000000   \n",
       "MiscVal        2919.0     0.249039    1.317411     0.000000     0.000000   \n",
       "MoSold         2919.0     6.213087    2.714762     1.000000     4.000000   \n",
       "OpenPorchSF    2919.0     7.372676    7.643023     0.000000     0.000000   \n",
       "OverallCond    2919.0     5.564577    1.113131     1.000000     5.000000   \n",
       "OverallQual    2919.0     6.089072    1.409947     1.000000     5.000000   \n",
       "PoolArea       2919.0     0.025632    0.384228     0.000000     0.000000   \n",
       "ScreenPorch    2919.0     2.051518    6.762247     0.000000     0.000000   \n",
       "TotRmsAbvGrd   2919.0     6.451524    1.569379     2.000000     5.000000   \n",
       "TotalBsmtSF    2919.0   345.680202  121.421716     0.000000   278.893356   \n",
       "WoodDeckSF     2919.0    19.782525   23.238178     0.000000     0.000000   \n",
       "YearBuilt      2919.0  1971.312778   30.291442  1872.000000  1953.500000   \n",
       "YearRemodAdd   2919.0  1984.264474   20.894344  1950.000000  1965.000000   \n",
       "YrSold         2919.0  2007.792737    1.314964  2006.000000  2007.000000   \n",
       "TotalSF        2919.0   752.599262  505.403727     4.727521   363.367710   \n",
       "TotalBath      2919.0     2.218397    0.808840     1.000000     1.500000   \n",
       "TotalPorch     2919.0    31.170211   25.142879     0.000000    10.221078   \n",
       "HasPool        2919.0     0.004454    0.066598     0.000000     0.000000   \n",
       "HasGarage      2919.0     0.945872    0.226309     0.000000     1.000000   \n",
       "HasBsmt        2919.0     0.972936    0.162298     0.000000     1.000000   \n",
       "HasFirePl      2919.0     0.513532    0.499902     0.000000     0.000000   \n",
       "BeforeCrisis   2919.0     0.449126    0.497490     0.000000     0.000000   \n",
       "\n",
       "                       50%          75%          max  \n",
       "1stFlrSF          5.459344     5.606361     6.333169  \n",
       "2ndFlrSF          0.000000   835.536971  2532.646194  \n",
       "3SsnPorch         0.000000     0.000000     7.814872  \n",
       "BedroomAbvGr      3.000000     3.000000     8.000000  \n",
       "BsmtCond          4.000000     4.000000     7.000000  \n",
       "BsmtFinSF1       75.846052   120.877939   475.812603  \n",
       "BsmtFinSF2        0.000000     0.000000    14.376852  \n",
       "BsmtFullBath      0.000000     1.000000     3.000000  \n",
       "BsmtHalfBath      0.000000     0.000000     2.000000  \n",
       "BsmtQual          7.000000     7.000000    11.000000  \n",
       "BsmtUnfSF        59.503738    82.236292   154.089489  \n",
       "EnclosedPorch     0.000000     0.000000    26.177738  \n",
       "ExterCond         4.000000     4.000000    11.000000  \n",
       "ExterQual         4.000000     7.000000    11.000000  \n",
       "FireplaceQu       1.000000     7.000000    11.000000  \n",
       "Fireplaces        1.000000     1.000000     4.000000  \n",
       "FullBath          2.000000     2.000000     4.000000  \n",
       "GarageArea      480.000000   576.000000  1488.000000  \n",
       "GarageCars        2.000000     2.000000     5.000000  \n",
       "GarageCond        4.000000     4.000000    11.000000  \n",
       "GarageQual        4.000000     4.000000    11.000000  \n",
       "GrLivArea         7.074515     7.252415     8.355349  \n",
       "HalfBath          0.000000     1.000000     2.000000  \n",
       "HeatingQC        11.000000    11.000000    11.000000  \n",
       "KitchenAbvGr      1.000000     1.000000     3.000000  \n",
       "KitchenQual       4.000000     7.000000    11.000000  \n",
       "LotArea          13.661724    14.094653    21.234924  \n",
       "LotFrontage      15.294721    16.494886    34.887137  \n",
       "LowQualFinSF      0.000000     0.000000     5.399405  \n",
       "MasVnrArea        0.000000    17.798203    49.871821  \n",
       "MiscVal           0.000000     0.000000    10.605446  \n",
       "MoSold            6.000000     8.000000    12.000000  \n",
       "OpenPorchSF       7.568799    12.904469    41.281216  \n",
       "OverallCond       5.000000     6.000000     9.000000  \n",
       "OverallQual       6.000000     7.000000    10.000000  \n",
       "PoolArea          0.000000     0.000000     6.230205  \n",
       "ScreenPorch       0.000000     0.000000    43.041592  \n",
       "TotRmsAbvGrd      6.000000     7.000000    15.000000  \n",
       "TotalBsmtSF     333.922195   417.789982  1470.614434  \n",
       "WoodDeckSF        0.000000    38.817738   153.668215  \n",
       "YearBuilt      1973.000000  2001.000000  2010.000000  \n",
       "YearRemodAdd   1993.000000  2004.000000  2010.000000  \n",
       "YrSold         2008.000000  2009.000000  2010.000000  \n",
       "TotalSF         510.718809  1125.602238  3225.108320  \n",
       "TotalBath         2.000000     2.500000     7.000000  \n",
       "TotalPorch       27.606384    50.170640   153.668215  \n",
       "HasPool           0.000000     0.000000     1.000000  \n",
       "HasGarage         1.000000     1.000000     1.000000  \n",
       "HasBsmt           1.000000     1.000000     1.000000  \n",
       "HasFirePl         1.000000     1.000000     1.000000  \n",
       "BeforeCrisis      0.000000     1.000000     1.000000  "
      ]
     },
     "execution_count": 40,
     "metadata": {},
     "output_type": "execute_result"
    }
   ],
   "source": [
    "feat_num.describe().transpose()"
   ]
  },
  {
   "cell_type": "code",
   "execution_count": 41,
   "metadata": {},
   "outputs": [],
   "source": [
    "feat_num = feat_num.apply(lambda x: (x - np.mean(x)) / np.std(x)).reset_index(drop=True)"
   ]
  },
  {
   "cell_type": "code",
   "execution_count": 42,
   "metadata": {},
   "outputs": [
    {
     "data": {
      "text/html": [
       "<div>\n",
       "<style scoped>\n",
       "    .dataframe tbody tr th:only-of-type {\n",
       "        vertical-align: middle;\n",
       "    }\n",
       "\n",
       "    .dataframe tbody tr th {\n",
       "        vertical-align: top;\n",
       "    }\n",
       "\n",
       "    .dataframe thead th {\n",
       "        text-align: right;\n",
       "    }\n",
       "</style>\n",
       "<table border=\"1\" class=\"dataframe\">\n",
       "  <thead>\n",
       "    <tr style=\"text-align: right;\">\n",
       "      <th></th>\n",
       "      <th>1stFlrSF</th>\n",
       "      <th>2ndFlrSF</th>\n",
       "      <th>3SsnPorch</th>\n",
       "      <th>BedroomAbvGr</th>\n",
       "      <th>BsmtCond</th>\n",
       "      <th>BsmtFinSF1</th>\n",
       "      <th>BsmtFinSF2</th>\n",
       "      <th>BsmtFullBath</th>\n",
       "      <th>BsmtHalfBath</th>\n",
       "      <th>BsmtQual</th>\n",
       "      <th>...</th>\n",
       "      <th>YearRemodAdd</th>\n",
       "      <th>YrSold</th>\n",
       "      <th>TotalSF</th>\n",
       "      <th>TotalBath</th>\n",
       "      <th>TotalPorch</th>\n",
       "      <th>HasPool</th>\n",
       "      <th>HasGarage</th>\n",
       "      <th>HasBsmt</th>\n",
       "      <th>HasFirePl</th>\n",
       "      <th>BeforeCrisis</th>\n",
       "    </tr>\n",
       "  </thead>\n",
       "  <tbody>\n",
       "    <tr>\n",
       "      <td>0</td>\n",
       "      <td>-0.772873</td>\n",
       "      <td>1.202038</td>\n",
       "      <td>-0.112588</td>\n",
       "      <td>0.169927</td>\n",
       "      <td>0.064036</td>\n",
       "      <td>0.724690</td>\n",
       "      <td>-0.357352</td>\n",
       "      <td>1.087334</td>\n",
       "      <td>-0.249719</td>\n",
       "      <td>0.545509</td>\n",
       "      <td>...</td>\n",
       "      <td>0.896833</td>\n",
       "      <td>0.157646</td>\n",
       "      <td>1.126208</td>\n",
       "      <td>1.584766</td>\n",
       "      <td>-0.762201</td>\n",
       "      <td>-0.066884</td>\n",
       "      <td>0.239219</td>\n",
       "      <td>0.166784</td>\n",
       "      <td>-1.027440</td>\n",
       "      <td>-0.902939</td>\n",
       "    </tr>\n",
       "    <tr>\n",
       "      <td>1</td>\n",
       "      <td>0.434763</td>\n",
       "      <td>-0.780730</td>\n",
       "      <td>-0.112588</td>\n",
       "      <td>0.169927</td>\n",
       "      <td>0.064036</td>\n",
       "      <td>1.183898</td>\n",
       "      <td>-0.357352</td>\n",
       "      <td>-0.818929</td>\n",
       "      <td>3.822508</td>\n",
       "      <td>0.545509</td>\n",
       "      <td>...</td>\n",
       "      <td>-0.395604</td>\n",
       "      <td>-0.602962</td>\n",
       "      <td>-0.672343</td>\n",
       "      <td>0.348216</td>\n",
       "      <td>1.001211</td>\n",
       "      <td>-0.066884</td>\n",
       "      <td>0.239219</td>\n",
       "      <td>0.166784</td>\n",
       "      <td>0.973292</td>\n",
       "      <td>1.107495</td>\n",
       "    </tr>\n",
       "    <tr>\n",
       "      <td>2</td>\n",
       "      <td>-0.545974</td>\n",
       "      <td>1.230753</td>\n",
       "      <td>-0.112588</td>\n",
       "      <td>0.169927</td>\n",
       "      <td>0.064036</td>\n",
       "      <td>0.307824</td>\n",
       "      <td>-0.357352</td>\n",
       "      <td>1.087334</td>\n",
       "      <td>-0.249719</td>\n",
       "      <td>0.545509</td>\n",
       "      <td>...</td>\n",
       "      <td>0.848965</td>\n",
       "      <td>0.157646</td>\n",
       "      <td>1.191082</td>\n",
       "      <td>1.584766</td>\n",
       "      <td>-0.848140</td>\n",
       "      <td>-0.066884</td>\n",
       "      <td>0.239219</td>\n",
       "      <td>0.166784</td>\n",
       "      <td>0.973292</td>\n",
       "      <td>-0.902939</td>\n",
       "    </tr>\n",
       "    <tr>\n",
       "      <td>3</td>\n",
       "      <td>-0.409344</td>\n",
       "      <td>0.968004</td>\n",
       "      <td>-0.112588</td>\n",
       "      <td>0.169927</td>\n",
       "      <td>3.095207</td>\n",
       "      <td>-0.307610</td>\n",
       "      <td>-0.357352</td>\n",
       "      <td>1.087334</td>\n",
       "      <td>-0.249719</td>\n",
       "      <td>-0.703712</td>\n",
       "      <td>...</td>\n",
       "      <td>-0.682812</td>\n",
       "      <td>-1.363569</td>\n",
       "      <td>0.831604</td>\n",
       "      <td>-0.270058</td>\n",
       "      <td>-0.248083</td>\n",
       "      <td>-0.066884</td>\n",
       "      <td>0.239219</td>\n",
       "      <td>0.166784</td>\n",
       "      <td>0.973292</td>\n",
       "      <td>1.107495</td>\n",
       "    </tr>\n",
       "    <tr>\n",
       "      <td>4</td>\n",
       "      <td>0.135282</td>\n",
       "      <td>1.679725</td>\n",
       "      <td>-0.112588</td>\n",
       "      <td>1.385655</td>\n",
       "      <td>0.064036</td>\n",
       "      <td>0.632444</td>\n",
       "      <td>-0.357352</td>\n",
       "      <td>1.087334</td>\n",
       "      <td>-0.249719</td>\n",
       "      <td>0.545509</td>\n",
       "      <td>...</td>\n",
       "      <td>0.753229</td>\n",
       "      <td>0.157646</td>\n",
       "      <td>1.769821</td>\n",
       "      <td>1.584766</td>\n",
       "      <td>1.008861</td>\n",
       "      <td>-0.066884</td>\n",
       "      <td>0.239219</td>\n",
       "      <td>0.166784</td>\n",
       "      <td>0.973292</td>\n",
       "      <td>-0.902939</td>\n",
       "    </tr>\n",
       "  </tbody>\n",
       "</table>\n",
       "<p>5 rows × 51 columns</p>\n",
       "</div>"
      ],
      "text/plain": [
       "   1stFlrSF  2ndFlrSF  3SsnPorch  BedroomAbvGr  BsmtCond  BsmtFinSF1  \\\n",
       "0 -0.772873  1.202038  -0.112588      0.169927  0.064036    0.724690   \n",
       "1  0.434763 -0.780730  -0.112588      0.169927  0.064036    1.183898   \n",
       "2 -0.545974  1.230753  -0.112588      0.169927  0.064036    0.307824   \n",
       "3 -0.409344  0.968004  -0.112588      0.169927  3.095207   -0.307610   \n",
       "4  0.135282  1.679725  -0.112588      1.385655  0.064036    0.632444   \n",
       "\n",
       "   BsmtFinSF2  BsmtFullBath  BsmtHalfBath  BsmtQual  ...  YearRemodAdd  \\\n",
       "0   -0.357352      1.087334     -0.249719  0.545509  ...      0.896833   \n",
       "1   -0.357352     -0.818929      3.822508  0.545509  ...     -0.395604   \n",
       "2   -0.357352      1.087334     -0.249719  0.545509  ...      0.848965   \n",
       "3   -0.357352      1.087334     -0.249719 -0.703712  ...     -0.682812   \n",
       "4   -0.357352      1.087334     -0.249719  0.545509  ...      0.753229   \n",
       "\n",
       "     YrSold   TotalSF  TotalBath  TotalPorch   HasPool  HasGarage   HasBsmt  \\\n",
       "0  0.157646  1.126208   1.584766   -0.762201 -0.066884   0.239219  0.166784   \n",
       "1 -0.602962 -0.672343   0.348216    1.001211 -0.066884   0.239219  0.166784   \n",
       "2  0.157646  1.191082   1.584766   -0.848140 -0.066884   0.239219  0.166784   \n",
       "3 -1.363569  0.831604  -0.270058   -0.248083 -0.066884   0.239219  0.166784   \n",
       "4  0.157646  1.769821   1.584766    1.008861 -0.066884   0.239219  0.166784   \n",
       "\n",
       "   HasFirePl  BeforeCrisis  \n",
       "0  -1.027440     -0.902939  \n",
       "1   0.973292      1.107495  \n",
       "2   0.973292     -0.902939  \n",
       "3   0.973292      1.107495  \n",
       "4   0.973292     -0.902939  \n",
       "\n",
       "[5 rows x 51 columns]"
      ]
     },
     "execution_count": 42,
     "metadata": {},
     "output_type": "execute_result"
    }
   ],
   "source": [
    "feat_num.head()"
   ]
  },
  {
   "cell_type": "code",
   "execution_count": 43,
   "metadata": {},
   "outputs": [],
   "source": [
    "cat_data = pd.get_dummies(feat_cat).reset_index(drop=True)"
   ]
  },
  {
   "cell_type": "code",
   "execution_count": 44,
   "metadata": {},
   "outputs": [],
   "source": [
    "fin_data = pd.concat([feat_num,cat_data],axis=1).reset_index(drop=True)"
   ]
  },
  {
   "cell_type": "code",
   "execution_count": 45,
   "metadata": {},
   "outputs": [
    {
     "data": {
      "text/html": [
       "<div>\n",
       "<style scoped>\n",
       "    .dataframe tbody tr th:only-of-type {\n",
       "        vertical-align: middle;\n",
       "    }\n",
       "\n",
       "    .dataframe tbody tr th {\n",
       "        vertical-align: top;\n",
       "    }\n",
       "\n",
       "    .dataframe thead th {\n",
       "        text-align: right;\n",
       "    }\n",
       "</style>\n",
       "<table border=\"1\" class=\"dataframe\">\n",
       "  <thead>\n",
       "    <tr style=\"text-align: right;\">\n",
       "      <th></th>\n",
       "      <th>1stFlrSF</th>\n",
       "      <th>2ndFlrSF</th>\n",
       "      <th>3SsnPorch</th>\n",
       "      <th>BedroomAbvGr</th>\n",
       "      <th>BsmtCond</th>\n",
       "      <th>BsmtFinSF1</th>\n",
       "      <th>BsmtFinSF2</th>\n",
       "      <th>BsmtFullBath</th>\n",
       "      <th>BsmtHalfBath</th>\n",
       "      <th>BsmtQual</th>\n",
       "      <th>...</th>\n",
       "      <th>SaleCondition_Partial</th>\n",
       "      <th>SaleType_COD</th>\n",
       "      <th>SaleType_CWD</th>\n",
       "      <th>SaleType_Con</th>\n",
       "      <th>SaleType_ConLD</th>\n",
       "      <th>SaleType_ConLI</th>\n",
       "      <th>SaleType_ConLw</th>\n",
       "      <th>SaleType_New</th>\n",
       "      <th>SaleType_Oth</th>\n",
       "      <th>SaleType_WD</th>\n",
       "    </tr>\n",
       "  </thead>\n",
       "  <tbody>\n",
       "    <tr>\n",
       "      <td>0</td>\n",
       "      <td>-0.772873</td>\n",
       "      <td>1.202038</td>\n",
       "      <td>-0.112588</td>\n",
       "      <td>0.169927</td>\n",
       "      <td>0.064036</td>\n",
       "      <td>0.724690</td>\n",
       "      <td>-0.357352</td>\n",
       "      <td>1.087334</td>\n",
       "      <td>-0.249719</td>\n",
       "      <td>0.545509</td>\n",
       "      <td>...</td>\n",
       "      <td>0</td>\n",
       "      <td>0</td>\n",
       "      <td>0</td>\n",
       "      <td>0</td>\n",
       "      <td>0</td>\n",
       "      <td>0</td>\n",
       "      <td>0</td>\n",
       "      <td>0</td>\n",
       "      <td>0</td>\n",
       "      <td>1</td>\n",
       "    </tr>\n",
       "    <tr>\n",
       "      <td>1</td>\n",
       "      <td>0.434763</td>\n",
       "      <td>-0.780730</td>\n",
       "      <td>-0.112588</td>\n",
       "      <td>0.169927</td>\n",
       "      <td>0.064036</td>\n",
       "      <td>1.183898</td>\n",
       "      <td>-0.357352</td>\n",
       "      <td>-0.818929</td>\n",
       "      <td>3.822508</td>\n",
       "      <td>0.545509</td>\n",
       "      <td>...</td>\n",
       "      <td>0</td>\n",
       "      <td>0</td>\n",
       "      <td>0</td>\n",
       "      <td>0</td>\n",
       "      <td>0</td>\n",
       "      <td>0</td>\n",
       "      <td>0</td>\n",
       "      <td>0</td>\n",
       "      <td>0</td>\n",
       "      <td>1</td>\n",
       "    </tr>\n",
       "    <tr>\n",
       "      <td>2</td>\n",
       "      <td>-0.545974</td>\n",
       "      <td>1.230753</td>\n",
       "      <td>-0.112588</td>\n",
       "      <td>0.169927</td>\n",
       "      <td>0.064036</td>\n",
       "      <td>0.307824</td>\n",
       "      <td>-0.357352</td>\n",
       "      <td>1.087334</td>\n",
       "      <td>-0.249719</td>\n",
       "      <td>0.545509</td>\n",
       "      <td>...</td>\n",
       "      <td>0</td>\n",
       "      <td>0</td>\n",
       "      <td>0</td>\n",
       "      <td>0</td>\n",
       "      <td>0</td>\n",
       "      <td>0</td>\n",
       "      <td>0</td>\n",
       "      <td>0</td>\n",
       "      <td>0</td>\n",
       "      <td>1</td>\n",
       "    </tr>\n",
       "    <tr>\n",
       "      <td>3</td>\n",
       "      <td>-0.409344</td>\n",
       "      <td>0.968004</td>\n",
       "      <td>-0.112588</td>\n",
       "      <td>0.169927</td>\n",
       "      <td>3.095207</td>\n",
       "      <td>-0.307610</td>\n",
       "      <td>-0.357352</td>\n",
       "      <td>1.087334</td>\n",
       "      <td>-0.249719</td>\n",
       "      <td>-0.703712</td>\n",
       "      <td>...</td>\n",
       "      <td>0</td>\n",
       "      <td>0</td>\n",
       "      <td>0</td>\n",
       "      <td>0</td>\n",
       "      <td>0</td>\n",
       "      <td>0</td>\n",
       "      <td>0</td>\n",
       "      <td>0</td>\n",
       "      <td>0</td>\n",
       "      <td>1</td>\n",
       "    </tr>\n",
       "    <tr>\n",
       "      <td>4</td>\n",
       "      <td>0.135282</td>\n",
       "      <td>1.679725</td>\n",
       "      <td>-0.112588</td>\n",
       "      <td>1.385655</td>\n",
       "      <td>0.064036</td>\n",
       "      <td>0.632444</td>\n",
       "      <td>-0.357352</td>\n",
       "      <td>1.087334</td>\n",
       "      <td>-0.249719</td>\n",
       "      <td>0.545509</td>\n",
       "      <td>...</td>\n",
       "      <td>0</td>\n",
       "      <td>0</td>\n",
       "      <td>0</td>\n",
       "      <td>0</td>\n",
       "      <td>0</td>\n",
       "      <td>0</td>\n",
       "      <td>0</td>\n",
       "      <td>0</td>\n",
       "      <td>0</td>\n",
       "      <td>1</td>\n",
       "    </tr>\n",
       "  </tbody>\n",
       "</table>\n",
       "<p>5 rows × 266 columns</p>\n",
       "</div>"
      ],
      "text/plain": [
       "   1stFlrSF  2ndFlrSF  3SsnPorch  BedroomAbvGr  BsmtCond  BsmtFinSF1  \\\n",
       "0 -0.772873  1.202038  -0.112588      0.169927  0.064036    0.724690   \n",
       "1  0.434763 -0.780730  -0.112588      0.169927  0.064036    1.183898   \n",
       "2 -0.545974  1.230753  -0.112588      0.169927  0.064036    0.307824   \n",
       "3 -0.409344  0.968004  -0.112588      0.169927  3.095207   -0.307610   \n",
       "4  0.135282  1.679725  -0.112588      1.385655  0.064036    0.632444   \n",
       "\n",
       "   BsmtFinSF2  BsmtFullBath  BsmtHalfBath  BsmtQual  ...  \\\n",
       "0   -0.357352      1.087334     -0.249719  0.545509  ...   \n",
       "1   -0.357352     -0.818929      3.822508  0.545509  ...   \n",
       "2   -0.357352      1.087334     -0.249719  0.545509  ...   \n",
       "3   -0.357352      1.087334     -0.249719 -0.703712  ...   \n",
       "4   -0.357352      1.087334     -0.249719  0.545509  ...   \n",
       "\n",
       "   SaleCondition_Partial  SaleType_COD  SaleType_CWD  SaleType_Con  \\\n",
       "0                      0             0             0             0   \n",
       "1                      0             0             0             0   \n",
       "2                      0             0             0             0   \n",
       "3                      0             0             0             0   \n",
       "4                      0             0             0             0   \n",
       "\n",
       "   SaleType_ConLD  SaleType_ConLI  SaleType_ConLw  SaleType_New  SaleType_Oth  \\\n",
       "0               0               0               0             0             0   \n",
       "1               0               0               0             0             0   \n",
       "2               0               0               0             0             0   \n",
       "3               0               0               0             0             0   \n",
       "4               0               0               0             0             0   \n",
       "\n",
       "   SaleType_WD  \n",
       "0            1  \n",
       "1            1  \n",
       "2            1  \n",
       "3            1  \n",
       "4            1  \n",
       "\n",
       "[5 rows x 266 columns]"
      ]
     },
     "execution_count": 45,
     "metadata": {},
     "output_type": "execute_result"
    }
   ],
   "source": [
    "fin_data.head()"
   ]
  },
  {
   "cell_type": "code",
   "execution_count": 46,
   "metadata": {
    "scrolled": true
   },
   "outputs": [
    {
     "name": "stdout",
     "output_type": "stream",
     "text": [
      "(2919, 266)\n",
      "(1460, 266) (1460,) (1459, 266)\n"
     ]
    }
   ],
   "source": [
    "print(fin_data.shape)\n",
    "train = fin_data.iloc[:len(y),:]\n",
    "test = fin_data.iloc[len(y):,:]\n",
    "print(train.shape,y.shape,test.shape)"
   ]
  },
  {
   "cell_type": "code",
   "execution_count": 47,
   "metadata": {},
   "outputs": [],
   "source": [
    "outliers = list(out)\n",
    "train = train.drop(train.index[outliers])\n",
    "y_train = y.drop(y.index[outliers])"
   ]
  },
  {
   "cell_type": "code",
   "execution_count": 48,
   "metadata": {},
   "outputs": [
    {
     "name": "stdout",
     "output_type": "stream",
     "text": [
      "(1450, 266) (1450,) (1459, 266)\n"
     ]
    }
   ],
   "source": [
    "print(train.shape,y_train.shape,test.shape)"
   ]
  },
  {
   "cell_type": "code",
   "execution_count": 49,
   "metadata": {},
   "outputs": [],
   "source": [
    "train['SalePrice'] = y_train"
   ]
  },
  {
   "cell_type": "code",
   "execution_count": 50,
   "metadata": {},
   "outputs": [
    {
     "name": "stdout",
     "output_type": "stream",
     "text": [
      "(1450, 267)\n"
     ]
    }
   ],
   "source": [
    "print(train.shape)"
   ]
  },
  {
   "cell_type": "code",
   "execution_count": 51,
   "metadata": {},
   "outputs": [
    {
     "name": "stdout",
     "output_type": "stream",
     "text": [
      "<module 'tensorflow_core._api.v2.version' from '/home/romas/anaconda3/lib/python3.7/site-packages/tensorflow_core/_api/v2/version/__init__.py'>\n"
     ]
    }
   ],
   "source": [
    "import tensorflow as tf\n",
    "from tensorflow import keras\n",
    "from tensorflow.keras import layers\n",
    "print(tf.version)"
   ]
  },
  {
   "cell_type": "code",
   "execution_count": 52,
   "metadata": {},
   "outputs": [],
   "source": [
    "train_set = train.sample(frac=0.8, random_state=0)\n",
    "test_set = train.drop(train_set.index)"
   ]
  },
  {
   "cell_type": "code",
   "execution_count": 53,
   "metadata": {},
   "outputs": [],
   "source": [
    "train_labels = train_set.pop('SalePrice')\n",
    "test_labels = test_set.pop('SalePrice')"
   ]
  },
  {
   "cell_type": "code",
   "execution_count": 54,
   "metadata": {},
   "outputs": [
    {
     "data": {
      "text/html": [
       "<div>\n",
       "<style scoped>\n",
       "    .dataframe tbody tr th:only-of-type {\n",
       "        vertical-align: middle;\n",
       "    }\n",
       "\n",
       "    .dataframe tbody tr th {\n",
       "        vertical-align: top;\n",
       "    }\n",
       "\n",
       "    .dataframe thead th {\n",
       "        text-align: right;\n",
       "    }\n",
       "</style>\n",
       "<table border=\"1\" class=\"dataframe\">\n",
       "  <thead>\n",
       "    <tr style=\"text-align: right;\">\n",
       "      <th></th>\n",
       "      <th>count</th>\n",
       "      <th>mean</th>\n",
       "      <th>std</th>\n",
       "      <th>min</th>\n",
       "      <th>25%</th>\n",
       "      <th>50%</th>\n",
       "      <th>75%</th>\n",
       "      <th>max</th>\n",
       "    </tr>\n",
       "  </thead>\n",
       "  <tbody>\n",
       "    <tr>\n",
       "      <td>1stFlrSF</td>\n",
       "      <td>1160.0</td>\n",
       "      <td>0.034547</td>\n",
       "      <td>0.961412</td>\n",
       "      <td>-3.845208</td>\n",
       "      <td>-0.643090</td>\n",
       "      <td>-0.001456</td>\n",
       "      <td>0.734413</td>\n",
       "      <td>3.218656</td>\n",
       "    </tr>\n",
       "    <tr>\n",
       "      <td>2ndFlrSF</td>\n",
       "      <td>1160.0</td>\n",
       "      <td>0.028160</td>\n",
       "      <td>1.020174</td>\n",
       "      <td>-0.780730</td>\n",
       "      <td>-0.780730</td>\n",
       "      <td>-0.780730</td>\n",
       "      <td>0.927498</td>\n",
       "      <td>3.670955</td>\n",
       "    </tr>\n",
       "    <tr>\n",
       "      <td>3SsnPorch</td>\n",
       "      <td>1160.0</td>\n",
       "      <td>0.035648</td>\n",
       "      <td>1.154146</td>\n",
       "      <td>-0.112588</td>\n",
       "      <td>-0.112588</td>\n",
       "      <td>-0.112588</td>\n",
       "      <td>-0.112588</td>\n",
       "      <td>10.873180</td>\n",
       "    </tr>\n",
       "    <tr>\n",
       "      <td>BedroomAbvGr</td>\n",
       "      <td>1160.0</td>\n",
       "      <td>0.001192</td>\n",
       "      <td>0.981000</td>\n",
       "      <td>-3.477258</td>\n",
       "      <td>-1.045801</td>\n",
       "      <td>0.169927</td>\n",
       "      <td>0.169927</td>\n",
       "      <td>6.248569</td>\n",
       "    </tr>\n",
       "    <tr>\n",
       "      <td>BsmtCond</td>\n",
       "      <td>1160.0</td>\n",
       "      <td>0.036164</td>\n",
       "      <td>0.989298</td>\n",
       "      <td>-3.977524</td>\n",
       "      <td>0.064036</td>\n",
       "      <td>0.064036</td>\n",
       "      <td>0.064036</td>\n",
       "      <td>3.095207</td>\n",
       "    </tr>\n",
       "  </tbody>\n",
       "</table>\n",
       "</div>"
      ],
      "text/plain": [
       "               count      mean       std       min       25%       50%  \\\n",
       "1stFlrSF      1160.0  0.034547  0.961412 -3.845208 -0.643090 -0.001456   \n",
       "2ndFlrSF      1160.0  0.028160  1.020174 -0.780730 -0.780730 -0.780730   \n",
       "3SsnPorch     1160.0  0.035648  1.154146 -0.112588 -0.112588 -0.112588   \n",
       "BedroomAbvGr  1160.0  0.001192  0.981000 -3.477258 -1.045801  0.169927   \n",
       "BsmtCond      1160.0  0.036164  0.989298 -3.977524  0.064036  0.064036   \n",
       "\n",
       "                   75%        max  \n",
       "1stFlrSF      0.734413   3.218656  \n",
       "2ndFlrSF      0.927498   3.670955  \n",
       "3SsnPorch    -0.112588  10.873180  \n",
       "BedroomAbvGr  0.169927   6.248569  \n",
       "BsmtCond      0.064036   3.095207  "
      ]
     },
     "execution_count": 54,
     "metadata": {},
     "output_type": "execute_result"
    }
   ],
   "source": [
    "train_stats = train_set.describe()\n",
    "train_stats = train_stats.transpose()\n",
    "train_stats.head()"
   ]
  },
  {
   "cell_type": "code",
   "execution_count": 55,
   "metadata": {},
   "outputs": [],
   "source": [
    "def build_model():\n",
    "    model = keras.Sequential([\n",
    "        layers.Dense(64, activation='relu', input_shape=[len(train_set.keys())]),\n",
    "        layers.Dense(64, activation='relu'),\n",
    "        layers.Dense(1)\n",
    "    ])\n",
    "\n",
    "    optimizer = tf.keras.optimizers.RMSprop(0.001)\n",
    "\n",
    "    model.compile(loss='mse',\n",
    "                  optimizer=optimizer,\n",
    "                  metrics=['mae', 'mse'])\n",
    "    return model"
   ]
  },
  {
   "cell_type": "code",
   "execution_count": 56,
   "metadata": {},
   "outputs": [],
   "source": [
    "model = build_model()"
   ]
  },
  {
   "cell_type": "code",
   "execution_count": 57,
   "metadata": {},
   "outputs": [
    {
     "name": "stdout",
     "output_type": "stream",
     "text": [
      "Model: \"sequential\"\n",
      "_________________________________________________________________\n",
      "Layer (type)                 Output Shape              Param #   \n",
      "=================================================================\n",
      "dense (Dense)                (None, 64)                17088     \n",
      "_________________________________________________________________\n",
      "dense_1 (Dense)              (None, 64)                4160      \n",
      "_________________________________________________________________\n",
      "dense_2 (Dense)              (None, 1)                 65        \n",
      "=================================================================\n",
      "Total params: 21,313\n",
      "Trainable params: 21,313\n",
      "Non-trainable params: 0\n",
      "_________________________________________________________________\n"
     ]
    }
   ],
   "source": [
    "model.summary()"
   ]
  },
  {
   "cell_type": "code",
   "execution_count": 58,
   "metadata": {},
   "outputs": [],
   "source": [
    "normed_train_data = train_set\n",
    "normed_test_data = test_set"
   ]
  },
  {
   "cell_type": "code",
   "execution_count": 59,
   "metadata": {
    "scrolled": true
   },
   "outputs": [
    {
     "name": "stdout",
     "output_type": "stream",
     "text": [
      "WARNING:tensorflow:Falling back from v2 loop because of error: Failed to find data adapter that can handle input: <class 'pandas.core.frame.DataFrame'>, <class 'NoneType'>\n"
     ]
    },
    {
     "data": {
      "text/plain": [
       "array([[ 0.3453611 ],\n",
       "       [-0.6804416 ],\n",
       "       [-1.0268404 ],\n",
       "       [-0.44266897],\n",
       "       [-0.31040564],\n",
       "       [ 0.28511095],\n",
       "       [-0.35449755],\n",
       "       [-0.70969677],\n",
       "       [-0.9466952 ],\n",
       "       [-0.84824616]], dtype=float32)"
      ]
     },
     "execution_count": 59,
     "metadata": {},
     "output_type": "execute_result"
    }
   ],
   "source": [
    "example_batch = normed_train_data[:10]\n",
    "example_result = model.predict(example_batch)\n",
    "example_result"
   ]
  },
  {
   "cell_type": "code",
   "execution_count": 60,
   "metadata": {},
   "outputs": [],
   "source": [
    "class PrintDot(keras.callbacks.Callback):\n",
    "    def on_epoch_end(self, epoch, logs):\n",
    "        if epoch % 100 == 0: \n",
    "            print('')\n",
    "            print(epoch)\n",
    "        print('.', end='')\n"
   ]
  },
  {
   "cell_type": "code",
   "execution_count": 61,
   "metadata": {},
   "outputs": [],
   "source": [
    "def plot_history(history):\n",
    "    hist = pd.DataFrame(history.history)\n",
    "    hist['epoch'] = history.epoch\n",
    "\n",
    "    plt.figure()\n",
    "    plt.xlabel('Epoch')\n",
    "    plt.ylabel('Mean Abs Error [SalePrice]')\n",
    "    plt.plot(hist['epoch'], hist['mae'],label='Train Error')\n",
    "    plt.plot(hist['epoch'], hist['val_mae'],label = 'Val Error')\n",
    "    plt.ylim([10000,30_000])\n",
    "    plt.legend()\n",
    "\n",
    "    plt.figure()\n",
    "    plt.xlabel('Epoch')\n",
    "    plt.ylabel('Mean Square Error [$SalePrice$]')\n",
    "    plt.plot(hist['epoch'], hist['mse'],label='Train Error')\n",
    "    plt.plot(hist['epoch'], hist['val_mse'],label = 'Val Error')\n",
    "    plt.ylim([5e6,1e9])\n",
    "    plt.legend()\n",
    "    plt.show()"
   ]
  },
  {
   "cell_type": "code",
   "execution_count": null,
   "metadata": {
    "scrolled": false
   },
   "outputs": [
    {
     "name": "stdout",
     "output_type": "stream",
     "text": [
      "WARNING:tensorflow:Falling back from v2 loop because of error: Failed to find data adapter that can handle input: <class 'pandas.core.frame.DataFrame'>, <class 'NoneType'>\n",
      "\n",
      "0\n",
      "....................................................................................................\n",
      "100\n",
      "....................................................................................................\n",
      "200\n",
      ".........................."
     ]
    }
   ],
   "source": [
    "model = build_model()\n",
    "\n",
    "EPOCHS = 5000\n",
    "\n",
    "# Параметр patience определяет количество эпох, проверяемых на улучшение\n",
    "early_stop = keras.callbacks.EarlyStopping(monitor='val_loss', patience=50)\n",
    "\n",
    "history = model.fit(normed_train_data, train_labels, epochs=EPOCHS,\n",
    "                    validation_split = 0.2, verbose=0, callbacks=[early_stop, PrintDot()])\n",
    "\n"
   ]
  },
  {
   "cell_type": "code",
   "execution_count": null,
   "metadata": {},
   "outputs": [],
   "source": [
    "plot_history(history)"
   ]
  },
  {
   "cell_type": "code",
   "execution_count": null,
   "metadata": {},
   "outputs": [],
   "source": [
    "loss, mae, mse = model.evaluate(normed_test_data, test_labels, verbose=2)\n",
    "\n",
    "print(\"Testing set Mean Abs Error: {:5.2f}\".format(mae))\n"
   ]
  },
  {
   "cell_type": "code",
   "execution_count": null,
   "metadata": {},
   "outputs": [],
   "source": [
    "hist = pd.DataFrame(history.history)\n",
    "hist['epoch'] = history.epoch\n",
    "hist.tail()"
   ]
  },
  {
   "cell_type": "code",
   "execution_count": null,
   "metadata": {},
   "outputs": [],
   "source": [
    "test_predictions = model.predict(normed_test_data).flatten()\n",
    "\n",
    "plt.scatter(test_labels, test_predictions)\n",
    "plt.xlabel('True Values [log(Price)]')\n",
    "plt.ylabel('Predictions [log(Price)]')\n",
    "plt.axis('equal')\n",
    "plt.axis('square')\n",
    "plt.xlim([10,plt.xlim()[1]])\n",
    "plt.ylim([10,plt.ylim()[1]])\n",
    "_ = plt.plot([-100_000_000, 100_000_000], [-100_000_000, 100_000_000])\n"
   ]
  },
  {
   "cell_type": "code",
   "execution_count": null,
   "metadata": {},
   "outputs": [],
   "source": [
    "error = test_predictions - test_labels\n",
    "plt.hist(error, bins = 25)\n",
    "plt.xlabel(\"Prediction Error [Price]\")\n",
    "_ = plt.ylabel(\"Count\")\n"
   ]
  },
  {
   "cell_type": "code",
   "execution_count": null,
   "metadata": {},
   "outputs": [],
   "source": [
    "result = model.predict(test)"
   ]
  },
  {
   "cell_type": "code",
   "execution_count": null,
   "metadata": {},
   "outputs": [],
   "source": [
    "final_sub = pd.DataFrame()\n",
    "final_sub['Id'] = test_ID\n",
    "final_sub['SalePrice'] = result"
   ]
  },
  {
   "cell_type": "code",
   "execution_count": null,
   "metadata": {},
   "outputs": [],
   "source": [
    "sub = pd.DataFrame()\n",
    "sub['Id'] = test_ID\n",
    "sub['SalePrice'] = result\n",
    "sub.to_csv('2020-02-13 NN sub tf2x + skew.csv',index=False)"
   ]
  },
  {
   "cell_type": "code",
   "execution_count": null,
   "metadata": {},
   "outputs": [],
   "source": [
    "bs = pd.read_csv('best_submission.csv')"
   ]
  },
  {
   "cell_type": "code",
   "execution_count": null,
   "metadata": {},
   "outputs": [],
   "source": [
    "final_sub['BSP'] = bs.SalePrice\n",
    "final_sub"
   ]
  },
  {
   "cell_type": "code",
   "execution_count": null,
   "metadata": {},
   "outputs": [],
   "source": [
    "from sklearn.metrics import mean_squared_error, mean_absolute_error"
   ]
  },
  {
   "cell_type": "code",
   "execution_count": null,
   "metadata": {},
   "outputs": [],
   "source": [
    "np.sqrt(mean_squared_error(final_sub.SalePrice, final_sub.BSP))"
   ]
  },
  {
   "cell_type": "code",
   "execution_count": null,
   "metadata": {},
   "outputs": [],
   "source": [
    "mean_absolute_error(final_sub.SalePrice, final_sub.BSP)"
   ]
  },
  {
   "cell_type": "code",
   "execution_count": null,
   "metadata": {},
   "outputs": [],
   "source": []
  }
 ],
 "metadata": {
  "kernelspec": {
   "display_name": "Python 3",
   "language": "python",
   "name": "python3"
  },
  "language_info": {
   "codemirror_mode": {
    "name": "ipython",
    "version": 3
   },
   "file_extension": ".py",
   "mimetype": "text/x-python",
   "name": "python",
   "nbconvert_exporter": "python",
   "pygments_lexer": "ipython3",
   "version": "3.7.4"
  }
 },
 "nbformat": 4,
 "nbformat_minor": 2
}
