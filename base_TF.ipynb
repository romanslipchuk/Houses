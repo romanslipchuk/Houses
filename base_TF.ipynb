{
 "cells": [
  {
   "cell_type": "code",
   "execution_count": 1,
   "metadata": {},
   "outputs": [],
   "source": [
    "import pandas as pd\n",
    "import matplotlib.pyplot as plt\n",
    "import seaborn as sns\n",
    "import numpy as np\n",
    "from scipy.stats import norm, skew\n",
    "#from scipy.special import boxcox1px\n",
    "from scipy.stats import boxcox_normmax\n",
    "from sklearn.preprocessing import StandardScaler\n",
    "from scipy import stats\n",
    "import warnings\n",
    "warnings.filterwarnings('ignore')"
   ]
  },
  {
   "cell_type": "code",
   "execution_count": 2,
   "metadata": {},
   "outputs": [],
   "source": [
    "import scipy.special as ss"
   ]
  },
  {
   "cell_type": "code",
   "execution_count": 3,
   "metadata": {},
   "outputs": [],
   "source": [
    "%matplotlib inline"
   ]
  },
  {
   "cell_type": "code",
   "execution_count": 4,
   "metadata": {},
   "outputs": [],
   "source": [
    "train = pd.read_csv('train.csv')\n",
    "test = pd.read_csv('test.csv')"
   ]
  },
  {
   "cell_type": "code",
   "execution_count": 5,
   "metadata": {},
   "outputs": [],
   "source": [
    "train = train[(train.GrLivArea < 4500)]\n",
    "train.reset_index(drop=True, inplace=True)\n",
    "# train[\"SalePrice\"] = np.log1p(train[\"SalePrice\"])\n",
    "y = train['SalePrice'].reset_index(drop=True).copy()"
   ]
  },
  {
   "cell_type": "code",
   "execution_count": 6,
   "metadata": {},
   "outputs": [],
   "source": [
    "test_ID = test.Id"
   ]
  },
  {
   "cell_type": "code",
   "execution_count": 7,
   "metadata": {},
   "outputs": [],
   "source": [
    "train.drop('Id',inplace=True, axis=1)\n",
    "test.drop('Id',inplace=True, axis=1)"
   ]
  },
  {
   "cell_type": "code",
   "execution_count": 8,
   "metadata": {},
   "outputs": [
    {
     "name": "stdout",
     "output_type": "stream",
     "text": [
      "(1458, 80) (1459, 79)\n"
     ]
    }
   ],
   "source": [
    "print(train.shape, test.shape)"
   ]
  },
  {
   "cell_type": "code",
   "execution_count": 9,
   "metadata": {},
   "outputs": [
    {
     "name": "stdout",
     "output_type": "stream",
     "text": [
      "(2917, 80)\n"
     ]
    }
   ],
   "source": [
    "data = pd.concat((train,test)).reset_index(drop=True)\n",
    "print(data.shape)"
   ]
  },
  {
   "cell_type": "code",
   "execution_count": 10,
   "metadata": {},
   "outputs": [
    {
     "data": {
      "text/plain": [
       "PoolQC          2908\n",
       "MiscFeature     2812\n",
       "Alley           2719\n",
       "Fence           2346\n",
       "SalePrice       1459\n",
       "FireplaceQu     1420\n",
       "LotFrontage      486\n",
       "GarageQual       159\n",
       "GarageCond       159\n",
       "GarageFinish     159\n",
       "GarageYrBlt      159\n",
       "GarageType       157\n",
       "BsmtExposure      82\n",
       "BsmtCond          82\n",
       "BsmtQual          81\n",
       "BsmtFinType2      80\n",
       "BsmtFinType1      79\n",
       "MasVnrType        24\n",
       "MasVnrArea        23\n",
       "MSZoning           4\n",
       "BsmtFullBath       2\n",
       "BsmtHalfBath       2\n",
       "Utilities          2\n",
       "Functional         2\n",
       "Electrical         1\n",
       "BsmtUnfSF          1\n",
       "Exterior1st        1\n",
       "Exterior2nd        1\n",
       "TotalBsmtSF        1\n",
       "GarageCars         1\n",
       "BsmtFinSF2         1\n",
       "BsmtFinSF1         1\n",
       "KitchenQual        1\n",
       "SaleType           1\n",
       "GarageArea         1\n",
       "dtype: int64"
      ]
     },
     "execution_count": 10,
     "metadata": {},
     "output_type": "execute_result"
    }
   ],
   "source": [
    "data_nans = data.isnull().sum()\n",
    "data_nans = data_nans[data_nans > 0]\n",
    "data_nans.sort_values(ascending=False)"
   ]
  },
  {
   "cell_type": "code",
   "execution_count": 11,
   "metadata": {},
   "outputs": [],
   "source": [
    "strings = ['MSSubClass']\n",
    "for var in strings:\n",
    "    data[var] = data[var].apply(str)"
   ]
  },
  {
   "cell_type": "code",
   "execution_count": 12,
   "metadata": {},
   "outputs": [],
   "source": [
    "groups = ['Exterior1st','Exterior2nd','SaleType','Electrical','KitchenQual']\n",
    "for group in groups:\n",
    "    mode = data[group].mode()[0]\n",
    "    data[group] = data[group].fillna(mode)\n",
    "\n",
    "    \n",
    "data.MSZoning = data.MSZoning.fillna('RL')\n",
    "\n",
    "for col in ['GarageType', 'GarageFinish', 'GarageQual', 'GarageCond','BsmtQual',\n",
    "            'BsmtCond', 'BsmtExposure', 'BsmtFinType1', 'BsmtFinType2',\"PoolQC\"\n",
    "           ,'Alley','Fence','MiscFeature','FireplaceQu','MasVnrType','Utilities']:\n",
    "    data[col] = data[col].fillna('None')\n",
    "    \n",
    "for col in ('GarageArea', 'GarageCars','MasVnrArea','BsmtFinSF1','BsmtFinSF2'\n",
    "           ,'BsmtFullBath','BsmtHalfBath','FullBath','HalfBath','BsmtUnfSF','TotalBsmtSF', 'GarageYrBlt'):\n",
    "    data[col] = data[col].fillna(0)\n",
    "    \n",
    "\n",
    "data.Functional = data.Functional.fillna('Typ')\n",
    "\n",
    "data['LotFrontage'] = data.groupby('Neighborhood')['LotFrontage'].transform(lambda x: x.fillna(x.median()))"
   ]
  },
  {
   "cell_type": "code",
   "execution_count": 13,
   "metadata": {
    "scrolled": false
   },
   "outputs": [
    {
     "data": {
      "text/plain": [
       "SalePrice    1459\n",
       "dtype: int64"
      ]
     },
     "execution_count": 13,
     "metadata": {},
     "output_type": "execute_result"
    }
   ],
   "source": [
    "data_nans = data.isnull().sum()\n",
    "data_nans = data_nans[data_nans > 0]\n",
    "data_nans.sort_values(ascending=False)"
   ]
  },
  {
   "cell_type": "code",
   "execution_count": 14,
   "metadata": {},
   "outputs": [],
   "source": [
    "data.drop(['SalePrice'], axis=1, inplace=True)"
   ]
  },
  {
   "cell_type": "code",
   "execution_count": 15,
   "metadata": {},
   "outputs": [
    {
     "name": "stdout",
     "output_type": "stream",
     "text": [
      "Index(['Alley', 'BldgType', 'BsmtCond', 'BsmtExposure', 'BsmtFinType1',\n",
      "       'BsmtFinType2', 'BsmtQual', 'CentralAir', 'Condition1', 'Condition2',\n",
      "       'Electrical', 'ExterCond', 'ExterQual', 'Exterior1st', 'Exterior2nd',\n",
      "       'Fence', 'FireplaceQu', 'Foundation', 'Functional', 'GarageCond',\n",
      "       'GarageFinish', 'GarageQual', 'GarageType', 'Heating', 'HeatingQC',\n",
      "       'HouseStyle', 'KitchenQual', 'LandContour', 'LandSlope', 'LotConfig',\n",
      "       'LotShape', 'MSSubClass', 'MSZoning', 'MasVnrType', 'MiscFeature',\n",
      "       'Neighborhood', 'PavedDrive', 'PoolQC', 'RoofMatl', 'RoofStyle',\n",
      "       'SaleCondition', 'SaleType', 'Street', 'Utilities'],\n",
      "      dtype='object')\n",
      "Index(['1stFlrSF', '2ndFlrSF', '3SsnPorch', 'BedroomAbvGr', 'BsmtFinSF1',\n",
      "       'BsmtFinSF2', 'BsmtFullBath', 'BsmtHalfBath', 'BsmtUnfSF',\n",
      "       'EnclosedPorch', 'Fireplaces', 'FullBath', 'GarageArea', 'GarageCars',\n",
      "       'GarageYrBlt', 'GrLivArea', 'HalfBath', 'KitchenAbvGr', 'LotArea',\n",
      "       'LotFrontage', 'LowQualFinSF', 'MasVnrArea', 'MiscVal', 'MoSold',\n",
      "       'OpenPorchSF', 'OverallCond', 'OverallQual', 'PoolArea', 'ScreenPorch',\n",
      "       'TotRmsAbvGrd', 'TotalBsmtSF', 'WoodDeckSF', 'YearBuilt',\n",
      "       'YearRemodAdd', 'YrSold'],\n",
      "      dtype='object')\n"
     ]
    }
   ],
   "source": [
    "cat_features = data.select_dtypes(include=['object']).columns\n",
    "print(cat_features)\n",
    "num_features = data.select_dtypes(exclude=['object']).columns\n",
    "print(num_features)"
   ]
  },
  {
   "cell_type": "markdown",
   "metadata": {},
   "source": [
    "### Skewing"
   ]
  },
  {
   "cell_type": "code",
   "execution_count": 16,
   "metadata": {},
   "outputs": [],
   "source": [
    "# feat_num = data[num_features].drop(['GarageYrBlt','MoSold','OverallCond',\n",
    "#                                     'OverallQual','TotRmsAbvGrd','YearBuilt',\n",
    "#                                     'YearRemodAdd','YrSold','BsmtFullBath','BsmtHalfBath',\n",
    "#                                    'FullBath','HalfBath','KitchenAbvGr','Fireplaces','GarageCars'],axis=1)\n",
    "# feat_cat = data[cat_features]"
   ]
  },
  {
   "cell_type": "code",
   "execution_count": 17,
   "metadata": {},
   "outputs": [],
   "source": [
    "# skewness = feat_num.apply(lambda x: skew(x))\n",
    "# skewness.sort_values(ascending=False)"
   ]
  },
  {
   "cell_type": "code",
   "execution_count": 18,
   "metadata": {},
   "outputs": [],
   "source": [
    "# skewness = skewness[abs(skewness) > 0.5]\n",
    "# skewed_features = skewness.index\n",
    "# for feat in skewed_features:\n",
    "#     feat_num[feat] = ss.boxcox1p(feat_num[feat], boxcox_normmax(feat_num[feat] + 1))"
   ]
  },
  {
   "cell_type": "code",
   "execution_count": 19,
   "metadata": {
    "scrolled": true
   },
   "outputs": [],
   "source": [
    "# skewness = feat_num.apply(lambda x: skew(x))\n",
    "# skewness = skewness[abs(skewness) > 0.5]\n",
    "\n",
    "# print(\"There are {} skewed numerical features after Box Cox transform\".format(skewness.shape[0]))\n",
    "# print(\"Mean skewnees: {}\".format(np.mean(skewness)))\n",
    "# skewness.sort_values(ascending=False)"
   ]
  },
  {
   "cell_type": "code",
   "execution_count": 20,
   "metadata": {},
   "outputs": [],
   "source": [
    "# for col in feat_num.columns:\n",
    "#     data[col] = feat_num[col]"
   ]
  },
  {
   "cell_type": "code",
   "execution_count": 21,
   "metadata": {},
   "outputs": [
    {
     "data": {
      "text/plain": [
       "(2917, 89)"
      ]
     },
     "execution_count": 21,
     "metadata": {},
     "output_type": "execute_result"
    }
   ],
   "source": [
    "data['TotalSF'] = data.TotalBsmtSF + data['1stFlrSF'] + data['2ndFlrSF']\n",
    "data['TotalBath'] = data.FullBath + 0.5 * data.HalfBath + data.BsmtFullBath + 0.5 * data.BsmtHalfBath\n",
    "data['TotalPorch'] = data.OpenPorchSF + data['3SsnPorch'] + data.EnclosedPorch + data.ScreenPorch + data.WoodDeckSF\n",
    "\n",
    "data['YrBltAndRemod']=data.YearBuilt + data.YearRemodAdd\n",
    "\n",
    "\n",
    "data['TotYear'] = data.YearBuilt + data.YearRemodAdd + data.YrSold\n",
    "data['HasPool'] = data.PoolArea.apply(lambda x: 1 if x > 0 else 0)\n",
    "data['HasGarage'] = data.GarageArea.apply(lambda x: 1 if x > 0 else 0)\n",
    "data['HasBsmt'] = data.TotalBsmtSF.apply(lambda x: 1 if x > 0 else 0)\n",
    "data['HasFirePl'] = data.Fireplaces.apply(lambda x: 1 if x > 0 else 0)\n",
    "data['BeforeCrisis'] = data.YrSold.apply(lambda x: 1 if x < 2009 else 0)\n",
    "\n",
    "data.shape"
   ]
  },
  {
   "cell_type": "code",
   "execution_count": 22,
   "metadata": {
    "scrolled": false
   },
   "outputs": [],
   "source": [
    "qual_dict = {\"None\": 0, \"Po\": 1, \"Fa\": 2, \"TA\": 4, \"Gd\": 7, \"Ex\": 11}\n",
    "qual_cols = [\"ExterQual\", \"ExterCond\", \"BsmtQual\", \"BsmtCond\", \"HeatingQC\", \n",
    "             \"KitchenQual\", \"FireplaceQu\", \"GarageQual\", \"GarageCond\", \"PoolQC\"]\n",
    "\n",
    "for cat in data.columns:\n",
    "    if cat in qual_cols:\n",
    "        data[cat] = data[cat].map(qual_dict).astype('int64')"
   ]
  },
  {
   "cell_type": "code",
   "execution_count": 23,
   "metadata": {},
   "outputs": [],
   "source": [
    "drops = ['Utilities', 'Street', 'PoolQC', 'MiscFeature', 'Alley', 'Fence']\n",
    "data = data.drop(drops,axis=1)"
   ]
  },
  {
   "cell_type": "code",
   "execution_count": 24,
   "metadata": {},
   "outputs": [
    {
     "name": "stdout",
     "output_type": "stream",
     "text": [
      "Index(['BldgType', 'BsmtExposure', 'BsmtFinType1', 'BsmtFinType2',\n",
      "       'CentralAir', 'Condition1', 'Condition2', 'Electrical', 'Exterior1st',\n",
      "       'Exterior2nd', 'Foundation', 'Functional', 'GarageFinish', 'GarageType',\n",
      "       'Heating', 'HouseStyle', 'LandContour', 'LandSlope', 'LotConfig',\n",
      "       'LotShape', 'MSSubClass', 'MSZoning', 'MasVnrType', 'Neighborhood',\n",
      "       'PavedDrive', 'RoofMatl', 'RoofStyle', 'SaleCondition', 'SaleType'],\n",
      "      dtype='object')\n",
      "Index(['1stFlrSF', '2ndFlrSF', '3SsnPorch', 'BedroomAbvGr', 'BsmtCond',\n",
      "       'BsmtFinSF1', 'BsmtFinSF2', 'BsmtFullBath', 'BsmtHalfBath', 'BsmtQual',\n",
      "       'BsmtUnfSF', 'EnclosedPorch', 'ExterCond', 'ExterQual', 'FireplaceQu',\n",
      "       'Fireplaces', 'FullBath', 'GarageArea', 'GarageCars', 'GarageCond',\n",
      "       'GarageQual', 'GarageYrBlt', 'GrLivArea', 'HalfBath', 'HeatingQC',\n",
      "       'KitchenAbvGr', 'KitchenQual', 'LotArea', 'LotFrontage', 'LowQualFinSF',\n",
      "       'MasVnrArea', 'MiscVal', 'MoSold', 'OpenPorchSF', 'OverallCond',\n",
      "       'OverallQual', 'PoolArea', 'ScreenPorch', 'TotRmsAbvGrd', 'TotalBsmtSF',\n",
      "       'WoodDeckSF', 'YearBuilt', 'YearRemodAdd', 'YrSold', 'TotalSF',\n",
      "       'TotalBath', 'TotalPorch', 'YrBltAndRemod', 'TotYear', 'HasPool',\n",
      "       'HasGarage', 'HasBsmt', 'HasFirePl', 'BeforeCrisis'],\n",
      "      dtype='object')\n"
     ]
    }
   ],
   "source": [
    "cat_features = data.select_dtypes(include=['object']).columns\n",
    "print(cat_features)\n",
    "num_features = data.select_dtypes(exclude=['object']).columns\n",
    "print(num_features)"
   ]
  },
  {
   "cell_type": "code",
   "execution_count": 25,
   "metadata": {},
   "outputs": [],
   "source": [
    "feat_num = data[num_features]\n",
    "feat_cat = data[cat_features]"
   ]
  },
  {
   "cell_type": "code",
   "execution_count": 26,
   "metadata": {},
   "outputs": [],
   "source": [
    "feat_num = feat_num.apply(lambda x: (x - np.mean(x)) / np.std(x)).reset_index(drop=True)"
   ]
  },
  {
   "cell_type": "code",
   "execution_count": 27,
   "metadata": {},
   "outputs": [
    {
     "data": {
      "text/html": [
       "<div>\n",
       "<style scoped>\n",
       "    .dataframe tbody tr th:only-of-type {\n",
       "        vertical-align: middle;\n",
       "    }\n",
       "\n",
       "    .dataframe tbody tr th {\n",
       "        vertical-align: top;\n",
       "    }\n",
       "\n",
       "    .dataframe thead th {\n",
       "        text-align: right;\n",
       "    }\n",
       "</style>\n",
       "<table border=\"1\" class=\"dataframe\">\n",
       "  <thead>\n",
       "    <tr style=\"text-align: right;\">\n",
       "      <th></th>\n",
       "      <th>1stFlrSF</th>\n",
       "      <th>2ndFlrSF</th>\n",
       "      <th>3SsnPorch</th>\n",
       "      <th>BedroomAbvGr</th>\n",
       "      <th>BsmtCond</th>\n",
       "      <th>BsmtFinSF1</th>\n",
       "      <th>BsmtFinSF2</th>\n",
       "      <th>BsmtFullBath</th>\n",
       "      <th>BsmtHalfBath</th>\n",
       "      <th>BsmtQual</th>\n",
       "      <th>...</th>\n",
       "      <th>TotalSF</th>\n",
       "      <th>TotalBath</th>\n",
       "      <th>TotalPorch</th>\n",
       "      <th>YrBltAndRemod</th>\n",
       "      <th>TotYear</th>\n",
       "      <th>HasPool</th>\n",
       "      <th>HasGarage</th>\n",
       "      <th>HasBsmt</th>\n",
       "      <th>HasFirePl</th>\n",
       "      <th>BeforeCrisis</th>\n",
       "    </tr>\n",
       "  </thead>\n",
       "  <tbody>\n",
       "    <tr>\n",
       "      <th>0</th>\n",
       "      <td>-0.783214</td>\n",
       "      <td>1.210473</td>\n",
       "      <td>-0.103366</td>\n",
       "      <td>0.169987</td>\n",
       "      <td>0.064058</td>\n",
       "      <td>0.601514</td>\n",
       "      <td>-0.293134</td>\n",
       "      <td>1.090257</td>\n",
       "      <td>-0.249810</td>\n",
       "      <td>0.547756</td>\n",
       "      <td>...</td>\n",
       "      <td>0.030064</td>\n",
       "      <td>1.590503</td>\n",
       "      <td>-0.761881</td>\n",
       "      <td>1.094096</td>\n",
       "      <td>1.097916</td>\n",
       "      <td>-0.064271</td>\n",
       "      <td>0.239306</td>\n",
       "      <td>0.166843</td>\n",
       "      <td>-1.026755</td>\n",
       "      <td>0.714574</td>\n",
       "    </tr>\n",
       "    <tr>\n",
       "      <th>1</th>\n",
       "      <td>0.270789</td>\n",
       "      <td>-0.784638</td>\n",
       "      <td>-0.103366</td>\n",
       "      <td>0.169987</td>\n",
       "      <td>0.064058</td>\n",
       "      <td>1.213983</td>\n",
       "      <td>-0.293134</td>\n",
       "      <td>-0.818675</td>\n",
       "      <td>3.821109</td>\n",
       "      <td>0.547756</td>\n",
       "      <td>...</td>\n",
       "      <td>-0.023717</td>\n",
       "      <td>0.350990</td>\n",
       "      <td>0.721802</td>\n",
       "      <td>-0.076667</td>\n",
       "      <td>-0.093801</td>\n",
       "      <td>-0.064271</td>\n",
       "      <td>0.239306</td>\n",
       "      <td>0.166843</td>\n",
       "      <td>0.973942</td>\n",
       "      <td>0.714574</td>\n",
       "    </tr>\n",
       "    <tr>\n",
       "      <th>2</th>\n",
       "      <td>-0.617065</td>\n",
       "      <td>1.238507</td>\n",
       "      <td>-0.103366</td>\n",
       "      <td>0.169987</td>\n",
       "      <td>0.064058</td>\n",
       "      <td>0.106135</td>\n",
       "      <td>-0.293134</td>\n",
       "      <td>1.090257</td>\n",
       "      <td>-0.249810</td>\n",
       "      <td>0.547756</td>\n",
       "      <td>...</td>\n",
       "      <td>0.209336</td>\n",
       "      <td>1.590503</td>\n",
       "      <td>-0.880826</td>\n",
       "      <td>1.029054</td>\n",
       "      <td>1.032913</td>\n",
       "      <td>-0.064271</td>\n",
       "      <td>0.239306</td>\n",
       "      <td>0.166843</td>\n",
       "      <td>0.973942</td>\n",
       "      <td>0.714574</td>\n",
       "    </tr>\n",
       "    <tr>\n",
       "      <th>3</th>\n",
       "      <td>-0.510627</td>\n",
       "      <td>0.981526</td>\n",
       "      <td>-0.103366</td>\n",
       "      <td>0.169987</td>\n",
       "      <td>3.094194</td>\n",
       "      <td>-0.501830</td>\n",
       "      <td>-0.293134</td>\n",
       "      <td>1.090257</td>\n",
       "      <td>-0.249810</td>\n",
       "      <td>-0.703135</td>\n",
       "      <td>...</td>\n",
       "      <td>-0.089023</td>\n",
       "      <td>-0.268767</td>\n",
       "      <td>0.778145</td>\n",
       "      <td>-1.529280</td>\n",
       "      <td>-1.567197</td>\n",
       "      <td>-0.064271</td>\n",
       "      <td>0.239306</td>\n",
       "      <td>0.166843</td>\n",
       "      <td>0.973942</td>\n",
       "      <td>0.714574</td>\n",
       "    </tr>\n",
       "    <tr>\n",
       "      <th>4</th>\n",
       "      <td>-0.032951</td>\n",
       "      <td>1.675376</td>\n",
       "      <td>-0.103366</td>\n",
       "      <td>1.385311</td>\n",
       "      <td>0.064058</td>\n",
       "      <td>0.486676</td>\n",
       "      <td>-0.293134</td>\n",
       "      <td>1.090257</td>\n",
       "      <td>-0.249810</td>\n",
       "      <td>0.547756</td>\n",
       "      <td>...</td>\n",
       "      <td>1.025022</td>\n",
       "      <td>1.590503</td>\n",
       "      <td>0.584076</td>\n",
       "      <td>0.964011</td>\n",
       "      <td>0.967910</td>\n",
       "      <td>-0.064271</td>\n",
       "      <td>0.239306</td>\n",
       "      <td>0.166843</td>\n",
       "      <td>0.973942</td>\n",
       "      <td>0.714574</td>\n",
       "    </tr>\n",
       "  </tbody>\n",
       "</table>\n",
       "<p>5 rows × 54 columns</p>\n",
       "</div>"
      ],
      "text/plain": [
       "   1stFlrSF  2ndFlrSF  3SsnPorch  BedroomAbvGr  BsmtCond  BsmtFinSF1  \\\n",
       "0 -0.783214  1.210473  -0.103366      0.169987  0.064058    0.601514   \n",
       "1  0.270789 -0.784638  -0.103366      0.169987  0.064058    1.213983   \n",
       "2 -0.617065  1.238507  -0.103366      0.169987  0.064058    0.106135   \n",
       "3 -0.510627  0.981526  -0.103366      0.169987  3.094194   -0.501830   \n",
       "4 -0.032951  1.675376  -0.103366      1.385311  0.064058    0.486676   \n",
       "\n",
       "   BsmtFinSF2  BsmtFullBath  BsmtHalfBath  BsmtQual      ...        TotalSF  \\\n",
       "0   -0.293134      1.090257     -0.249810  0.547756      ...       0.030064   \n",
       "1   -0.293134     -0.818675      3.821109  0.547756      ...      -0.023717   \n",
       "2   -0.293134      1.090257     -0.249810  0.547756      ...       0.209336   \n",
       "3   -0.293134      1.090257     -0.249810 -0.703135      ...      -0.089023   \n",
       "4   -0.293134      1.090257     -0.249810  0.547756      ...       1.025022   \n",
       "\n",
       "   TotalBath  TotalPorch  YrBltAndRemod   TotYear   HasPool  HasGarage  \\\n",
       "0   1.590503   -0.761881       1.094096  1.097916 -0.064271   0.239306   \n",
       "1   0.350990    0.721802      -0.076667 -0.093801 -0.064271   0.239306   \n",
       "2   1.590503   -0.880826       1.029054  1.032913 -0.064271   0.239306   \n",
       "3  -0.268767    0.778145      -1.529280 -1.567197 -0.064271   0.239306   \n",
       "4   1.590503    0.584076       0.964011  0.967910 -0.064271   0.239306   \n",
       "\n",
       "    HasBsmt  HasFirePl  BeforeCrisis  \n",
       "0  0.166843  -1.026755      0.714574  \n",
       "1  0.166843   0.973942      0.714574  \n",
       "2  0.166843   0.973942      0.714574  \n",
       "3  0.166843   0.973942      0.714574  \n",
       "4  0.166843   0.973942      0.714574  \n",
       "\n",
       "[5 rows x 54 columns]"
      ]
     },
     "execution_count": 27,
     "metadata": {},
     "output_type": "execute_result"
    }
   ],
   "source": [
    "feat_num.head()"
   ]
  },
  {
   "cell_type": "code",
   "execution_count": 28,
   "metadata": {},
   "outputs": [],
   "source": [
    "cat_data = pd.get_dummies(feat_cat).reset_index(drop=True)"
   ]
  },
  {
   "cell_type": "code",
   "execution_count": 29,
   "metadata": {},
   "outputs": [],
   "source": [
    "fin_data = pd.concat([feat_num,cat_data],axis=1).reset_index(drop=True)"
   ]
  },
  {
   "cell_type": "code",
   "execution_count": 30,
   "metadata": {},
   "outputs": [
    {
     "data": {
      "text/html": [
       "<div>\n",
       "<style scoped>\n",
       "    .dataframe tbody tr th:only-of-type {\n",
       "        vertical-align: middle;\n",
       "    }\n",
       "\n",
       "    .dataframe tbody tr th {\n",
       "        vertical-align: top;\n",
       "    }\n",
       "\n",
       "    .dataframe thead th {\n",
       "        text-align: right;\n",
       "    }\n",
       "</style>\n",
       "<table border=\"1\" class=\"dataframe\">\n",
       "  <thead>\n",
       "    <tr style=\"text-align: right;\">\n",
       "      <th></th>\n",
       "      <th>1stFlrSF</th>\n",
       "      <th>2ndFlrSF</th>\n",
       "      <th>3SsnPorch</th>\n",
       "      <th>BedroomAbvGr</th>\n",
       "      <th>BsmtCond</th>\n",
       "      <th>BsmtFinSF1</th>\n",
       "      <th>BsmtFinSF2</th>\n",
       "      <th>BsmtFullBath</th>\n",
       "      <th>BsmtHalfBath</th>\n",
       "      <th>BsmtQual</th>\n",
       "      <th>...</th>\n",
       "      <th>SaleCondition_Partial</th>\n",
       "      <th>SaleType_COD</th>\n",
       "      <th>SaleType_CWD</th>\n",
       "      <th>SaleType_Con</th>\n",
       "      <th>SaleType_ConLD</th>\n",
       "      <th>SaleType_ConLI</th>\n",
       "      <th>SaleType_ConLw</th>\n",
       "      <th>SaleType_New</th>\n",
       "      <th>SaleType_Oth</th>\n",
       "      <th>SaleType_WD</th>\n",
       "    </tr>\n",
       "  </thead>\n",
       "  <tbody>\n",
       "    <tr>\n",
       "      <th>0</th>\n",
       "      <td>-0.783214</td>\n",
       "      <td>1.210473</td>\n",
       "      <td>-0.103366</td>\n",
       "      <td>0.169987</td>\n",
       "      <td>0.064058</td>\n",
       "      <td>0.601514</td>\n",
       "      <td>-0.293134</td>\n",
       "      <td>1.090257</td>\n",
       "      <td>-0.249810</td>\n",
       "      <td>0.547756</td>\n",
       "      <td>...</td>\n",
       "      <td>0</td>\n",
       "      <td>0</td>\n",
       "      <td>0</td>\n",
       "      <td>0</td>\n",
       "      <td>0</td>\n",
       "      <td>0</td>\n",
       "      <td>0</td>\n",
       "      <td>0</td>\n",
       "      <td>0</td>\n",
       "      <td>1</td>\n",
       "    </tr>\n",
       "    <tr>\n",
       "      <th>1</th>\n",
       "      <td>0.270789</td>\n",
       "      <td>-0.784638</td>\n",
       "      <td>-0.103366</td>\n",
       "      <td>0.169987</td>\n",
       "      <td>0.064058</td>\n",
       "      <td>1.213983</td>\n",
       "      <td>-0.293134</td>\n",
       "      <td>-0.818675</td>\n",
       "      <td>3.821109</td>\n",
       "      <td>0.547756</td>\n",
       "      <td>...</td>\n",
       "      <td>0</td>\n",
       "      <td>0</td>\n",
       "      <td>0</td>\n",
       "      <td>0</td>\n",
       "      <td>0</td>\n",
       "      <td>0</td>\n",
       "      <td>0</td>\n",
       "      <td>0</td>\n",
       "      <td>0</td>\n",
       "      <td>1</td>\n",
       "    </tr>\n",
       "    <tr>\n",
       "      <th>2</th>\n",
       "      <td>-0.617065</td>\n",
       "      <td>1.238507</td>\n",
       "      <td>-0.103366</td>\n",
       "      <td>0.169987</td>\n",
       "      <td>0.064058</td>\n",
       "      <td>0.106135</td>\n",
       "      <td>-0.293134</td>\n",
       "      <td>1.090257</td>\n",
       "      <td>-0.249810</td>\n",
       "      <td>0.547756</td>\n",
       "      <td>...</td>\n",
       "      <td>0</td>\n",
       "      <td>0</td>\n",
       "      <td>0</td>\n",
       "      <td>0</td>\n",
       "      <td>0</td>\n",
       "      <td>0</td>\n",
       "      <td>0</td>\n",
       "      <td>0</td>\n",
       "      <td>0</td>\n",
       "      <td>1</td>\n",
       "    </tr>\n",
       "    <tr>\n",
       "      <th>3</th>\n",
       "      <td>-0.510627</td>\n",
       "      <td>0.981526</td>\n",
       "      <td>-0.103366</td>\n",
       "      <td>0.169987</td>\n",
       "      <td>3.094194</td>\n",
       "      <td>-0.501830</td>\n",
       "      <td>-0.293134</td>\n",
       "      <td>1.090257</td>\n",
       "      <td>-0.249810</td>\n",
       "      <td>-0.703135</td>\n",
       "      <td>...</td>\n",
       "      <td>0</td>\n",
       "      <td>0</td>\n",
       "      <td>0</td>\n",
       "      <td>0</td>\n",
       "      <td>0</td>\n",
       "      <td>0</td>\n",
       "      <td>0</td>\n",
       "      <td>0</td>\n",
       "      <td>0</td>\n",
       "      <td>1</td>\n",
       "    </tr>\n",
       "    <tr>\n",
       "      <th>4</th>\n",
       "      <td>-0.032951</td>\n",
       "      <td>1.675376</td>\n",
       "      <td>-0.103366</td>\n",
       "      <td>1.385311</td>\n",
       "      <td>0.064058</td>\n",
       "      <td>0.486676</td>\n",
       "      <td>-0.293134</td>\n",
       "      <td>1.090257</td>\n",
       "      <td>-0.249810</td>\n",
       "      <td>0.547756</td>\n",
       "      <td>...</td>\n",
       "      <td>0</td>\n",
       "      <td>0</td>\n",
       "      <td>0</td>\n",
       "      <td>0</td>\n",
       "      <td>0</td>\n",
       "      <td>0</td>\n",
       "      <td>0</td>\n",
       "      <td>0</td>\n",
       "      <td>0</td>\n",
       "      <td>1</td>\n",
       "    </tr>\n",
       "  </tbody>\n",
       "</table>\n",
       "<p>5 rows × 268 columns</p>\n",
       "</div>"
      ],
      "text/plain": [
       "   1stFlrSF  2ndFlrSF  3SsnPorch  BedroomAbvGr  BsmtCond  BsmtFinSF1  \\\n",
       "0 -0.783214  1.210473  -0.103366      0.169987  0.064058    0.601514   \n",
       "1  0.270789 -0.784638  -0.103366      0.169987  0.064058    1.213983   \n",
       "2 -0.617065  1.238507  -0.103366      0.169987  0.064058    0.106135   \n",
       "3 -0.510627  0.981526  -0.103366      0.169987  3.094194   -0.501830   \n",
       "4 -0.032951  1.675376  -0.103366      1.385311  0.064058    0.486676   \n",
       "\n",
       "   BsmtFinSF2  BsmtFullBath  BsmtHalfBath  BsmtQual     ...       \\\n",
       "0   -0.293134      1.090257     -0.249810  0.547756     ...        \n",
       "1   -0.293134     -0.818675      3.821109  0.547756     ...        \n",
       "2   -0.293134      1.090257     -0.249810  0.547756     ...        \n",
       "3   -0.293134      1.090257     -0.249810 -0.703135     ...        \n",
       "4   -0.293134      1.090257     -0.249810  0.547756     ...        \n",
       "\n",
       "   SaleCondition_Partial  SaleType_COD  SaleType_CWD  SaleType_Con  \\\n",
       "0                      0             0             0             0   \n",
       "1                      0             0             0             0   \n",
       "2                      0             0             0             0   \n",
       "3                      0             0             0             0   \n",
       "4                      0             0             0             0   \n",
       "\n",
       "   SaleType_ConLD  SaleType_ConLI  SaleType_ConLw  SaleType_New  SaleType_Oth  \\\n",
       "0               0               0               0             0             0   \n",
       "1               0               0               0             0             0   \n",
       "2               0               0               0             0             0   \n",
       "3               0               0               0             0             0   \n",
       "4               0               0               0             0             0   \n",
       "\n",
       "   SaleType_WD  \n",
       "0            1  \n",
       "1            1  \n",
       "2            1  \n",
       "3            1  \n",
       "4            1  \n",
       "\n",
       "[5 rows x 268 columns]"
      ]
     },
     "execution_count": 30,
     "metadata": {},
     "output_type": "execute_result"
    }
   ],
   "source": [
    "fin_data.head()"
   ]
  },
  {
   "cell_type": "code",
   "execution_count": 31,
   "metadata": {
    "scrolled": true
   },
   "outputs": [
    {
     "name": "stdout",
     "output_type": "stream",
     "text": [
      "(2917, 268)\n",
      "(1458, 268) (1458,) (1459, 268)\n"
     ]
    }
   ],
   "source": [
    "print(fin_data.shape)\n",
    "train = fin_data.iloc[:len(y),:]\n",
    "test = fin_data.iloc[len(y):,:]\n",
    "print(train.shape,y.shape,test.shape)"
   ]
  },
  {
   "cell_type": "code",
   "execution_count": 32,
   "metadata": {},
   "outputs": [],
   "source": [
    "outliers = [30, 88, 462, 631, 1322]\n",
    "train = train.drop(train.index[outliers])\n",
    "y_train = y.drop(y.index[outliers])"
   ]
  },
  {
   "cell_type": "code",
   "execution_count": 33,
   "metadata": {},
   "outputs": [
    {
     "name": "stdout",
     "output_type": "stream",
     "text": [
      "(1453, 268) (1453,) (1459, 268)\n"
     ]
    }
   ],
   "source": [
    "print(train.shape,y_train.shape,test.shape)"
   ]
  },
  {
   "cell_type": "code",
   "execution_count": 34,
   "metadata": {},
   "outputs": [],
   "source": [
    "train['SalePrice'] = y_train"
   ]
  },
  {
   "cell_type": "code",
   "execution_count": 35,
   "metadata": {},
   "outputs": [
    {
     "name": "stdout",
     "output_type": "stream",
     "text": [
      "(1453, 269)\n"
     ]
    }
   ],
   "source": [
    "print(train.shape)"
   ]
  },
  {
   "cell_type": "code",
   "execution_count": 36,
   "metadata": {},
   "outputs": [],
   "source": [
    "import tensorflow as tf\n",
    "from tensorflow import keras\n",
    "from tensorflow.keras import layers"
   ]
  },
  {
   "cell_type": "code",
   "execution_count": 37,
   "metadata": {},
   "outputs": [],
   "source": [
    "train_set = train.sample(frac=0.8, random_state=0)\n",
    "test_set = train.drop(train_set.index)"
   ]
  },
  {
   "cell_type": "code",
   "execution_count": 38,
   "metadata": {},
   "outputs": [],
   "source": [
    "train_labels = train_set.pop('SalePrice')\n",
    "test_labels = test_set.pop('SalePrice')"
   ]
  },
  {
   "cell_type": "code",
   "execution_count": 39,
   "metadata": {},
   "outputs": [
    {
     "data": {
      "text/html": [
       "<div>\n",
       "<style scoped>\n",
       "    .dataframe tbody tr th:only-of-type {\n",
       "        vertical-align: middle;\n",
       "    }\n",
       "\n",
       "    .dataframe tbody tr th {\n",
       "        vertical-align: top;\n",
       "    }\n",
       "\n",
       "    .dataframe thead th {\n",
       "        text-align: right;\n",
       "    }\n",
       "</style>\n",
       "<table border=\"1\" class=\"dataframe\">\n",
       "  <thead>\n",
       "    <tr style=\"text-align: right;\">\n",
       "      <th></th>\n",
       "      <th>count</th>\n",
       "      <th>mean</th>\n",
       "      <th>std</th>\n",
       "      <th>min</th>\n",
       "      <th>25%</th>\n",
       "      <th>50%</th>\n",
       "      <th>75%</th>\n",
       "      <th>max</th>\n",
       "    </tr>\n",
       "  </thead>\n",
       "  <tbody>\n",
       "    <tr>\n",
       "      <th>1stFlrSF</th>\n",
       "      <td>1162.0</td>\n",
       "      <td>-0.021105</td>\n",
       "      <td>0.961047</td>\n",
       "      <td>-2.138360</td>\n",
       "      <td>-0.736484</td>\n",
       "      <td>-0.201695</td>\n",
       "      <td>0.571284</td>\n",
       "      <td>5.374654</td>\n",
       "    </tr>\n",
       "    <tr>\n",
       "      <th>2ndFlrSF</th>\n",
       "      <td>1162.0</td>\n",
       "      <td>0.051499</td>\n",
       "      <td>1.025679</td>\n",
       "      <td>-0.784638</td>\n",
       "      <td>-0.784638</td>\n",
       "      <td>-0.784638</td>\n",
       "      <td>0.941811</td>\n",
       "      <td>4.039606</td>\n",
       "    </tr>\n",
       "    <tr>\n",
       "      <th>3SsnPorch</th>\n",
       "      <td>1162.0</td>\n",
       "      <td>0.023062</td>\n",
       "      <td>1.078181</td>\n",
       "      <td>-0.103366</td>\n",
       "      <td>-0.103366</td>\n",
       "      <td>-0.103366</td>\n",
       "      <td>-0.103366</td>\n",
       "      <td>16.052303</td>\n",
       "    </tr>\n",
       "    <tr>\n",
       "      <th>BedroomAbvGr</th>\n",
       "      <td>1162.0</td>\n",
       "      <td>0.018333</td>\n",
       "      <td>1.010668</td>\n",
       "      <td>-3.475984</td>\n",
       "      <td>-1.045337</td>\n",
       "      <td>0.169987</td>\n",
       "      <td>0.169987</td>\n",
       "      <td>6.246606</td>\n",
       "    </tr>\n",
       "    <tr>\n",
       "      <th>BsmtCond</th>\n",
       "      <td>1162.0</td>\n",
       "      <td>0.043197</td>\n",
       "      <td>0.999773</td>\n",
       "      <td>-3.976123</td>\n",
       "      <td>0.064058</td>\n",
       "      <td>0.064058</td>\n",
       "      <td>0.064058</td>\n",
       "      <td>3.094194</td>\n",
       "    </tr>\n",
       "  </tbody>\n",
       "</table>\n",
       "</div>"
      ],
      "text/plain": [
       "               count      mean       std       min       25%       50%  \\\n",
       "1stFlrSF      1162.0 -0.021105  0.961047 -2.138360 -0.736484 -0.201695   \n",
       "2ndFlrSF      1162.0  0.051499  1.025679 -0.784638 -0.784638 -0.784638   \n",
       "3SsnPorch     1162.0  0.023062  1.078181 -0.103366 -0.103366 -0.103366   \n",
       "BedroomAbvGr  1162.0  0.018333  1.010668 -3.475984 -1.045337  0.169987   \n",
       "BsmtCond      1162.0  0.043197  0.999773 -3.976123  0.064058  0.064058   \n",
       "\n",
       "                   75%        max  \n",
       "1stFlrSF      0.571284   5.374654  \n",
       "2ndFlrSF      0.941811   4.039606  \n",
       "3SsnPorch    -0.103366  16.052303  \n",
       "BedroomAbvGr  0.169987   6.246606  \n",
       "BsmtCond      0.064058   3.094194  "
      ]
     },
     "execution_count": 39,
     "metadata": {},
     "output_type": "execute_result"
    }
   ],
   "source": [
    "train_stats = train_set.describe()\n",
    "train_stats = train_stats.transpose()\n",
    "train_stats.head()"
   ]
  },
  {
   "cell_type": "code",
   "execution_count": 40,
   "metadata": {},
   "outputs": [],
   "source": [
    "def build_model():\n",
    "    model = keras.Sequential([\n",
    "        layers.Dense(64, activation='relu', input_shape=[len(train_set.keys())]),\n",
    "        layers.Dense(64, activation='relu'),\n",
    "        layers.Dense(1)\n",
    "    ])\n",
    "\n",
    "    optimizer = tf.keras.optimizers.RMSprop(0.001)\n",
    "\n",
    "    model.compile(loss='mse',\n",
    "                  optimizer=optimizer,\n",
    "                  metrics=['mae', 'mse'])\n",
    "    return model"
   ]
  },
  {
   "cell_type": "code",
   "execution_count": 41,
   "metadata": {},
   "outputs": [
    {
     "name": "stdout",
     "output_type": "stream",
     "text": [
      "WARNING:tensorflow:From C:\\ProgramData\\Anaconda3\\lib\\site-packages\\tensorflow\\python\\ops\\resource_variable_ops.py:435: colocate_with (from tensorflow.python.framework.ops) is deprecated and will be removed in a future version.\n",
      "Instructions for updating:\n",
      "Colocations handled automatically by placer.\n",
      "WARNING:tensorflow:From C:\\ProgramData\\Anaconda3\\lib\\site-packages\\tensorflow\\python\\keras\\utils\\losses_utils.py:170: to_float (from tensorflow.python.ops.math_ops) is deprecated and will be removed in a future version.\n",
      "Instructions for updating:\n",
      "Use tf.cast instead.\n"
     ]
    }
   ],
   "source": [
    "model = build_model()"
   ]
  },
  {
   "cell_type": "code",
   "execution_count": 42,
   "metadata": {},
   "outputs": [
    {
     "name": "stdout",
     "output_type": "stream",
     "text": [
      "_________________________________________________________________\n",
      "Layer (type)                 Output Shape              Param #   \n",
      "=================================================================\n",
      "dense (Dense)                (None, 64)                17216     \n",
      "_________________________________________________________________\n",
      "dense_1 (Dense)              (None, 64)                4160      \n",
      "_________________________________________________________________\n",
      "dense_2 (Dense)              (None, 1)                 65        \n",
      "=================================================================\n",
      "Total params: 21,441\n",
      "Trainable params: 21,441\n",
      "Non-trainable params: 0\n",
      "_________________________________________________________________\n"
     ]
    }
   ],
   "source": [
    "model.summary()"
   ]
  },
  {
   "cell_type": "code",
   "execution_count": 43,
   "metadata": {},
   "outputs": [],
   "source": [
    "normed_train_data = train_set\n",
    "normed_test_data = test_set"
   ]
  },
  {
   "cell_type": "code",
   "execution_count": 44,
   "metadata": {},
   "outputs": [
    {
     "data": {
      "text/plain": [
       "array([[-0.5491716 ],\n",
       "       [ 0.22740135],\n",
       "       [-0.05960862],\n",
       "       [-0.15165256],\n",
       "       [-0.56253356],\n",
       "       [ 0.08162457],\n",
       "       [ 0.06984158],\n",
       "       [-0.49638602],\n",
       "       [ 0.07263932],\n",
       "       [-0.5375338 ]], dtype=float32)"
      ]
     },
     "execution_count": 44,
     "metadata": {},
     "output_type": "execute_result"
    }
   ],
   "source": [
    "example_batch = normed_train_data[:10]\n",
    "example_result = model.predict(example_batch)\n",
    "example_result"
   ]
  },
  {
   "cell_type": "code",
   "execution_count": 45,
   "metadata": {},
   "outputs": [],
   "source": [
    "class PrintDot(keras.callbacks.Callback):\n",
    "    def on_epoch_end(self, epoch, logs):\n",
    "        if epoch % 100 == 0: \n",
    "            print('')\n",
    "            print(epoch)\n",
    "        print('.', end='')\n"
   ]
  },
  {
   "cell_type": "code",
   "execution_count": 46,
   "metadata": {},
   "outputs": [],
   "source": [
    "def plot_history(history):\n",
    "    hist = pd.DataFrame(history.history)\n",
    "    hist['epoch'] = history.epoch\n",
    "\n",
    "    plt.figure()\n",
    "    plt.xlabel('Epoch')\n",
    "    plt.ylabel('Mean Abs Error [log(SalePrice)]')\n",
    "    plt.plot(hist['epoch'], hist['mean_absolute_error'],label='Train Error')\n",
    "    plt.plot(hist['epoch'], hist['val_mean_absolute_error'],label = 'Val Error')\n",
    "    plt.ylim([5_000,20_000])\n",
    "    plt.legend()\n",
    "\n",
    "    plt.figure()\n",
    "    plt.xlabel('Epoch')\n",
    "    plt.ylabel('Mean Square Error [$log(SalePrice)$]')\n",
    "    plt.plot(hist['epoch'], hist['mean_absolute_error'],label='Train Error')\n",
    "    plt.plot(hist['epoch'], hist['val_mean_absolute_error'],label = 'Val Error')\n",
    "    plt.ylim([5_000,20_000])\n",
    "    plt.legend()\n",
    "    plt.show()"
   ]
  },
  {
   "cell_type": "code",
   "execution_count": 56,
   "metadata": {
    "scrolled": false
   },
   "outputs": [
    {
     "name": "stdout",
     "output_type": "stream",
     "text": [
      "\n",
      "0\n",
      "....................................................................................................\n",
      "100\n",
      "....................................................................................................\n",
      "200\n",
      "....................................................................................................\n",
      "300\n",
      "...................................................."
     ]
    }
   ],
   "source": [
    "model = build_model()\n",
    "\n",
    "EPOCHS = 5000\n",
    "\n",
    "# Параметр patience определяет количество эпох, проверяемых на улучшение\n",
    "early_stop = keras.callbacks.EarlyStopping(monitor='val_loss', patience=50)\n",
    "\n",
    "history = model.fit(normed_train_data, train_labels, epochs=EPOCHS,\n",
    "                    validation_split = 0.2, verbose=0, callbacks=[early_stop, PrintDot()])\n",
    "\n"
   ]
  },
  {
   "cell_type": "code",
   "execution_count": 57,
   "metadata": {},
   "outputs": [
    {
     "data": {
      "image/png": "[encoded data removed]",
      "text/plain": [
       "<Figure size 432x288 with 1 Axes>"
      ]
     },
     "metadata": {
      "needs_background": "light"
     },
     "output_type": "display_data"
    },
    {
     "data": {
      "image/png": "[encoded data removed]",
      "text/plain": [
       "<Figure size 432x288 with 1 Axes>"
      ]
     },
     "metadata": {
      "needs_background": "light"
     },
     "output_type": "display_data"
    }
   ],
   "source": [
    "plot_history(history)"
   ]
  },
  {
   "cell_type": "code",
   "execution_count": 58,
   "metadata": {},
   "outputs": [
    {
     "name": "stdout",
     "output_type": "stream",
     "text": [
      " - 0s - loss: 438778505.2921 - mean_absolute_error: 15484.2461 - mean_squared_error: 438778496.0000\n",
      "Testing set Mean Abs Error: 15484.25\n"
     ]
    }
   ],
   "source": [
    "loss, mae, mse = model.evaluate(normed_test_data, test_labels, verbose=2)\n",
    "\n",
    "print(\"Testing set Mean Abs Error: {:5.2f}\".format(mae))\n"
   ]
  },
  {
   "cell_type": "code",
   "execution_count": 59,
   "metadata": {},
   "outputs": [
    {
     "data": {
      "text/html": [
       "<div>\n",
       "<style scoped>\n",
       "    .dataframe tbody tr th:only-of-type {\n",
       "        vertical-align: middle;\n",
       "    }\n",
       "\n",
       "    .dataframe tbody tr th {\n",
       "        vertical-align: top;\n",
       "    }\n",
       "\n",
       "    .dataframe thead th {\n",
       "        text-align: right;\n",
       "    }\n",
       "</style>\n",
       "<table border=\"1\" class=\"dataframe\">\n",
       "  <thead>\n",
       "    <tr style=\"text-align: right;\">\n",
       "      <th></th>\n",
       "      <th>loss</th>\n",
       "      <th>mean_absolute_error</th>\n",
       "      <th>mean_squared_error</th>\n",
       "      <th>val_loss</th>\n",
       "      <th>val_mean_absolute_error</th>\n",
       "      <th>val_mean_squared_error</th>\n",
       "      <th>epoch</th>\n",
       "    </tr>\n",
       "  </thead>\n",
       "  <tbody>\n",
       "    <tr>\n",
       "      <th>347</th>\n",
       "      <td>4.206044e+08</td>\n",
       "      <td>14391.632812</td>\n",
       "      <td>420604416.0</td>\n",
       "      <td>8.539346e+08</td>\n",
       "      <td>18332.935547</td>\n",
       "      <td>853934592.0</td>\n",
       "      <td>347</td>\n",
       "    </tr>\n",
       "    <tr>\n",
       "      <th>348</th>\n",
       "      <td>4.200126e+08</td>\n",
       "      <td>14300.065430</td>\n",
       "      <td>420012704.0</td>\n",
       "      <td>8.532402e+08</td>\n",
       "      <td>18342.722656</td>\n",
       "      <td>853240192.0</td>\n",
       "      <td>348</td>\n",
       "    </tr>\n",
       "    <tr>\n",
       "      <th>349</th>\n",
       "      <td>4.200891e+08</td>\n",
       "      <td>14389.841797</td>\n",
       "      <td>420089120.0</td>\n",
       "      <td>8.558498e+08</td>\n",
       "      <td>18326.224609</td>\n",
       "      <td>855849792.0</td>\n",
       "      <td>349</td>\n",
       "    </tr>\n",
       "    <tr>\n",
       "      <th>350</th>\n",
       "      <td>4.182515e+08</td>\n",
       "      <td>14296.264648</td>\n",
       "      <td>418251488.0</td>\n",
       "      <td>8.524665e+08</td>\n",
       "      <td>18391.677734</td>\n",
       "      <td>852466560.0</td>\n",
       "      <td>350</td>\n",
       "    </tr>\n",
       "    <tr>\n",
       "      <th>351</th>\n",
       "      <td>4.186706e+08</td>\n",
       "      <td>14339.546875</td>\n",
       "      <td>418670592.0</td>\n",
       "      <td>8.533907e+08</td>\n",
       "      <td>18339.384766</td>\n",
       "      <td>853390656.0</td>\n",
       "      <td>351</td>\n",
       "    </tr>\n",
       "  </tbody>\n",
       "</table>\n",
       "</div>"
      ],
      "text/plain": [
       "             loss  mean_absolute_error  mean_squared_error      val_loss  \\\n",
       "347  4.206044e+08         14391.632812         420604416.0  8.539346e+08   \n",
       "348  4.200126e+08         14300.065430         420012704.0  8.532402e+08   \n",
       "349  4.200891e+08         14389.841797         420089120.0  8.558498e+08   \n",
       "350  4.182515e+08         14296.264648         418251488.0  8.524665e+08   \n",
       "351  4.186706e+08         14339.546875         418670592.0  8.533907e+08   \n",
       "\n",
       "     val_mean_absolute_error  val_mean_squared_error  epoch  \n",
       "347             18332.935547             853934592.0    347  \n",
       "348             18342.722656             853240192.0    348  \n",
       "349             18326.224609             855849792.0    349  \n",
       "350             18391.677734             852466560.0    350  \n",
       "351             18339.384766             853390656.0    351  "
      ]
     },
     "execution_count": 59,
     "metadata": {},
     "output_type": "execute_result"
    }
   ],
   "source": [
    "hist = pd.DataFrame(history.history)\n",
    "hist['epoch'] = history.epoch\n",
    "hist.tail()"
   ]
  },
  {
   "cell_type": "code",
   "execution_count": 60,
   "metadata": {},
   "outputs": [
    {
     "data": {
      "image/png": "[encoded data removed]",
      "text/plain": [
       "<Figure size 432x288 with 1 Axes>"
      ]
     },
     "metadata": {
      "needs_background": "light"
     },
     "output_type": "display_data"
    }
   ],
   "source": [
    "test_predictions = model.predict(normed_test_data).flatten()\n",
    "\n",
    "plt.scatter(test_labels, test_predictions)\n",
    "plt.xlabel('True Values [log(Price)]')\n",
    "plt.ylabel('Predictions [log(Price)]')\n",
    "plt.axis('equal')\n",
    "plt.axis('square')\n",
    "plt.xlim([10,plt.xlim()[1]])\n",
    "plt.ylim([10,plt.ylim()[1]])\n",
    "_ = plt.plot([-1000_000, 1000_000], [-1000_000, 1000_000])\n"
   ]
  },
  {
   "cell_type": "code",
   "execution_count": 61,
   "metadata": {},
   "outputs": [
    {
     "data": {
      "image/png": "[encoded data removed]",
      "text/plain": [
       "<Figure size 432x288 with 1 Axes>"
      ]
     },
     "metadata": {
      "needs_background": "light"
     },
     "output_type": "display_data"
    }
   ],
   "source": [
    "error = test_predictions - test_labels\n",
    "plt.hist(error, bins = 25)\n",
    "plt.xlabel(\"Prediction Error [Price]\")\n",
    "_ = plt.ylabel(\"Count\")\n"
   ]
  },
  {
   "cell_type": "code",
   "execution_count": 62,
   "metadata": {},
   "outputs": [],
   "source": [
    "result = model.predict(test)"
   ]
  },
  {
   "cell_type": "code",
   "execution_count": 63,
   "metadata": {},
   "outputs": [
    {
     "data": {
      "text/plain": [
       "array([[112526.586],\n",
       "       [179962.6  ],\n",
       "       [176530.42 ],\n",
       "       ...,\n",
       "       [180631.97 ],\n",
       "       [117412.84 ],\n",
       "       [211714.5  ]], dtype=float32)"
      ]
     },
     "execution_count": 63,
     "metadata": {},
     "output_type": "execute_result"
    }
   ],
   "source": [
    "result"
   ]
  },
  {
   "cell_type": "code",
   "execution_count": 64,
   "metadata": {},
   "outputs": [],
   "source": [
    "sub = pd.DataFrame()\n",
    "sub['Id'] = test_ID\n",
    "sub['SalePrice'] = result\n",
    "sub.to_csv('2020-02-12 sub NN no log no features.csv',index=False)"
   ]
  },
  {
   "cell_type": "code",
   "execution_count": null,
   "metadata": {},
   "outputs": [],
   "source": []
  }
 ],
 "metadata": {
  "kernelspec": {
   "display_name": "Python 3",
   "language": "python",
   "name": "python3"
  },
  "language_info": {
   "codemirror_mode": {
    "name": "ipython",
    "version": 3
   },
   "file_extension": ".py",
   "mimetype": "text/x-python",
   "name": "python",
   "nbconvert_exporter": "python",
   "pygments_lexer": "ipython3",
   "version": "3.7.1"
  }
 },
 "nbformat": 4,
 "nbformat_minor": 2
}
